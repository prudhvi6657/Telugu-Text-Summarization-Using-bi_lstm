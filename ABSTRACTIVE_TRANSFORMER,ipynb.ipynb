{
 "cells": [
  {
   "cell_type": "code",
   "execution_count": 1,
   "id": "b23efdb0",
   "metadata": {},
   "outputs": [],
   "source": [
    "import pandas as pd\n",
    "import torch\n",
    "from transformers import T5Tokenizer, T5ForConditionalGeneration, AdamW, get_linear_schedule_with_warmup\n",
    "from torch.utils.data import Dataset, DataLoader\n",
    "from sklearn.model_selection import train_test_split\n",
    "from rouge_score import rouge_scorer\n",
    "import numpy as np\n",
    "from tqdm import tqdm\n"
   ]
  },
  {
   "cell_type": "code",
   "execution_count": null,
   "id": "b144e843",
   "metadata": {},
   "outputs": [],
   "source": [
    "\n",
    "# Set device\n",
    "device = torch.device(\"cuda\"\n",
    "    if torch.cuda.is_available()\n",
    "    else \"cpu\")\n"
   ]
  },
  {
   "cell_type": "code",
   "execution_count": 3,
   "id": "5d186cc2",
   "metadata": {},
   "outputs": [],
   "source": [
    "train_df=pd.read_csv(r'C:\\Users\\SHAM\\OneDrive\\miniproject\\telugu_train_2024\\telugu_ilsum_2024_train_with_summary.csv',encoding='utf-8')\n",
    "valid_df=pd.read_csv(r'C:\\Users\\SHAM\\OneDrive\\miniproject\\telugu_val_2024\\telugu_ilsum_2024_val_with_summary.csv',encoding='utf-8')\n",
    "test_df=pd.read_csv(r'C:\\Users\\SHAM\\OneDrive\\miniproject\\telugu_test_2024\\telugu_ilsum_2024_test_with_summary.csv',encoding='utf-8')\n"
   ]
  },
  {
   "cell_type": "code",
   "execution_count": 4,
   "id": "04e974d4",
   "metadata": {},
   "outputs": [],
   "source": [
    "\n",
    "# %%\n",
    "def trim_text_and_summary(df_train, max_text_len, max_summary_len):\n",
    "    _text = df_train['extractive_summary'].astype(str)\n",
    "    _summary = df_train['Summary'].astype(str)\n",
    "\n",
    "    short_text = []\n",
    "    short_summary = []\n",
    "\n",
    "    for i in range(len(_text)):\n",
    "        if len(_text[i].split()) <= max_text_len and len(_summary[i].split()) <= max_summary_len:\n",
    "            short_text.append(_text[i])\n",
    "            short_summary.append(_summary[i])\n",
    "\n",
    "    return pd.DataFrame({'text': short_text, 'summary': short_summary})\n"
   ]
  },
  {
   "cell_type": "code",
   "execution_count": 5,
   "id": "9bdedefc",
   "metadata": {},
   "outputs": [
    {
     "name": "stdout",
     "output_type": "stream",
     "text": [
      "Dataset size: 9438\n"
     ]
    }
   ],
   "source": [
    "# %%\n",
    "import numpy as np\n",
    "df_train = trim_text_and_summary(train_df,600,40)\n",
    "print(f'Dataset size: {len(df_train)}')\n"
   ]
  },
  {
   "cell_type": "code",
   "execution_count": 6,
   "id": "106b72a7",
   "metadata": {},
   "outputs": [
    {
     "data": {
      "text/html": [
       "<div>\n",
       "<style scoped>\n",
       "    .dataframe tbody tr th:only-of-type {\n",
       "        vertical-align: middle;\n",
       "    }\n",
       "\n",
       "    .dataframe tbody tr th {\n",
       "        vertical-align: top;\n",
       "    }\n",
       "\n",
       "    .dataframe thead th {\n",
       "        text-align: right;\n",
       "    }\n",
       "</style>\n",
       "<table border=\"1\" class=\"dataframe\">\n",
       "  <thead>\n",
       "    <tr style=\"text-align: right;\">\n",
       "      <th></th>\n",
       "      <th>text</th>\n",
       "      <th>summary</th>\n",
       "    </tr>\n",
       "  </thead>\n",
       "  <tbody>\n",
       "    <tr>\n",
       "      <th>0</th>\n",
       "      <td>పాతకాలపు నీటి తొట్టెలు అద్భుతంగా నిర్మించారు. ...</td>\n",
       "      <td>పాతకాలపు నీటి తొట్టెలు అద్భుతంగా నిర్మించారు. ...</td>\n",
       "    </tr>\n",
       "    <tr>\n",
       "      <th>1</th>\n",
       "      <td>గత మూడు నెలల (Three months) నుంచి తన భార్య ఆచూ...</td>\n",
       "      <td>తన భార్య ఆచూకీ పోలీసులు కనిపెట్టడం లేదని , పోల...</td>\n",
       "    </tr>\n",
       "    <tr>\n",
       "      <th>2</th>\n",
       "      <td>హైదరాబాద్లోని ఉస్మానియా యూనివర్సిటీ (Osmania u...</td>\n",
       "      <td>ఉస్మానియా యూనివర్సిటీ (Osmania university) రణర...</td>\n",
       "    </tr>\n",
       "    <tr>\n",
       "      <th>3</th>\n",
       "      <td>ఆంధ్రప్రదేశ్ (Andhra Pradesh) ముఖ్యమంత్రి వైఎస...</td>\n",
       "      <td>ఆంధ్రప్రదేశ్ (Andhra Pradesh) ముఖ్యమంత్రి వైఎస...</td>\n",
       "    </tr>\n",
       "    <tr>\n",
       "      <th>4</th>\n",
       "      <td>ఆంధ్రప్రదేశ్(Andhra Pradesh) లో అసెంబ్లీ ఎన్ని...</td>\n",
       "      <td>YCP Siddham అద్దంకి మేదరమెట్ల(Medarametla)లో న...</td>\n",
       "    </tr>\n",
       "    <tr>\n",
       "      <th>...</th>\n",
       "      <td>...</td>\n",
       "      <td>...</td>\n",
       "    </tr>\n",
       "    <tr>\n",
       "      <th>9433</th>\n",
       "      <td>(P.Srinivas,New18,Karimnagar)అమ్మాయి, అబ్బాయి ...</td>\n",
       "      <td>Crime news కొత్తగా పెళ్లి చేసుకొని ఇంటికి తెచ్...</td>\n",
       "    </tr>\n",
       "    <tr>\n",
       "      <th>9434</th>\n",
       "      <td>భారతదేశంతో పాటు ఆసియాలోనే పురాతన స్టాక్ ఎక్స్ఛ...</td>\n",
       "      <td>భారతదేశంతో పాటు ఆసియాలోనే పురాతన స్టాక్ ఎక్స్ఛ...</td>\n",
       "    </tr>\n",
       "    <tr>\n",
       "      <th>9435</th>\n",
       "      <td>Vi Plans దేశంలోని మూడో అతిపెద్ద టెలికం కంపెనీ ...</td>\n",
       "      <td>Vodafone Idea టెలికం కంపెనీల్లో ఒకటైన వొడాఫోన్...</td>\n",
       "    </tr>\n",
       "    <tr>\n",
       "      <th>9436</th>\n",
       "      <td>మీ నగరాన్ని ఎంచుకోండి రాష్ట్రం బంగాళదుంపను కూర...</td>\n",
       "      <td>బంగాళ దుంపలు అంటే ఇష్టపడని వారు ఉండరు. దీనితో ...</td>\n",
       "    </tr>\n",
       "    <tr>\n",
       "      <th>9437</th>\n",
       "      <td>కొన్ని గ్రామాల పేర్లు, కొన్ని ప్రాంతాల పేర్లు ...</td>\n",
       "      <td>ఒక ఊరికి పేరు రావడానికి జమ్మి చెట్టు కారణం. ఆ ...</td>\n",
       "    </tr>\n",
       "  </tbody>\n",
       "</table>\n",
       "<p>9438 rows × 2 columns</p>\n",
       "</div>"
      ],
      "text/plain": [
       "                                                   text  \\\n",
       "0     పాతకాలపు నీటి తొట్టెలు అద్భుతంగా నిర్మించారు. ...   \n",
       "1     గత మూడు నెలల (Three months) నుంచి తన భార్య ఆచూ...   \n",
       "2     హైదరాబాద్లోని ఉస్మానియా యూనివర్సిటీ (Osmania u...   \n",
       "3     ఆంధ్రప్రదేశ్ (Andhra Pradesh) ముఖ్యమంత్రి వైఎస...   \n",
       "4     ఆంధ్రప్రదేశ్(Andhra Pradesh) లో అసెంబ్లీ ఎన్ని...   \n",
       "...                                                 ...   \n",
       "9433  (P.Srinivas,New18,Karimnagar)అమ్మాయి, అబ్బాయి ...   \n",
       "9434  భారతదేశంతో పాటు ఆసియాలోనే పురాతన స్టాక్ ఎక్స్ఛ...   \n",
       "9435  Vi Plans దేశంలోని మూడో అతిపెద్ద టెలికం కంపెనీ ...   \n",
       "9436  మీ నగరాన్ని ఎంచుకోండి రాష్ట్రం బంగాళదుంపను కూర...   \n",
       "9437  కొన్ని గ్రామాల పేర్లు, కొన్ని ప్రాంతాల పేర్లు ...   \n",
       "\n",
       "                                                summary  \n",
       "0     పాతకాలపు నీటి తొట్టెలు అద్భుతంగా నిర్మించారు. ...  \n",
       "1     తన భార్య ఆచూకీ పోలీసులు కనిపెట్టడం లేదని , పోల...  \n",
       "2     ఉస్మానియా యూనివర్సిటీ (Osmania university) రణర...  \n",
       "3     ఆంధ్రప్రదేశ్ (Andhra Pradesh) ముఖ్యమంత్రి వైఎస...  \n",
       "4     YCP Siddham అద్దంకి మేదరమెట్ల(Medarametla)లో న...  \n",
       "...                                                 ...  \n",
       "9433  Crime news కొత్తగా పెళ్లి చేసుకొని ఇంటికి తెచ్...  \n",
       "9434  భారతదేశంతో పాటు ఆసియాలోనే పురాతన స్టాక్ ఎక్స్ఛ...  \n",
       "9435  Vodafone Idea టెలికం కంపెనీల్లో ఒకటైన వొడాఫోన్...  \n",
       "9436  బంగాళ దుంపలు అంటే ఇష్టపడని వారు ఉండరు. దీనితో ...  \n",
       "9437  ఒక ఊరికి పేరు రావడానికి జమ్మి చెట్టు కారణం. ఆ ...  \n",
       "\n",
       "[9438 rows x 2 columns]"
      ]
     },
     "execution_count": 6,
     "metadata": {},
     "output_type": "execute_result"
    }
   ],
   "source": [
    "df_train"
   ]
  },
  {
   "cell_type": "code",
   "execution_count": 7,
   "id": "11efcaba",
   "metadata": {},
   "outputs": [
    {
     "name": "stdout",
     "output_type": "stream",
     "text": [
      "Dataset size: 1046\n"
     ]
    }
   ],
   "source": [
    "df_valid= trim_text_and_summary(valid_df,600,40)\n",
    "print(f'Dataset size: {len(df_valid)}')\n"
   ]
  },
  {
   "cell_type": "code",
   "execution_count": 8,
   "id": "2a098614",
   "metadata": {},
   "outputs": [],
   "source": [
    "\n",
    "# Constants\n",
    "EXTRACTIVE_SUMMARY_LENGTH = 600  # Input length\n",
    "ABSTRACTIVE_SUMMARY_LENGTH = 50  # Output length\n",
    "#SUMMARY_MODEL"
   ]
  },
  {
   "cell_type": "code",
   "execution_count": 9,
   "id": "396011a1",
   "metadata": {},
   "outputs": [],
   "source": [
    "\n",
    "# 1. Data Preparation Functions\n",
    "class TeluguSummaryDataset(Dataset):\n",
    "    def __init__(self, dataframe, tokenizer, max_source_len=EXTRACTIVE_SUMMARY_LENGTH, max_target_len=ABSTRACTIVE_SUMMARY_LENGTH):\n",
    "        self.tokenizer = tokenizer\n",
    "        self.data = dataframe\n",
    "        self.max_source_len = max_source_len\n",
    "        self.max_target_len = max_target_len\n",
    "\n",
    "    def __len__(self):\n",
    "        return len(self.data)\n",
    "\n",
    "    def __getitem__(self, index):\n",
    "        extractive_summary = str(self.data.iloc[index]['text'])\n",
    "        reference_summary = str(self.data.iloc[index]['summary'])\n",
    "\n",
    "        source = self.tokenizer.batch_encode_plus(\n",
    "            [extractive_summary],\n",
    "            max_length=self.max_source_len,\n",
    "            pad_to_max_length=True,\n",
    "            truncation=True,\n",
    "            padding=\"max_length\",\n",
    "            return_tensors=\"pt\"\n",
    "        )\n",
    "        \n",
    "        target = self.tokenizer.batch_encode_plus(\n",
    "            [reference_summary],\n",
    "            max_length=self.max_target_len,\n",
    "            pad_to_max_length=True,\n",
    "            truncation=True,\n",
    "            padding=\"max_length\",\n",
    "            return_tensors=\"pt\"\n",
    "        )\n",
    "\n",
    "        return {\n",
    "            \"input_ids\": source[\"input_ids\"].squeeze(),\n",
    "            \"attention_mask\": source[\"attention_mask\"].squeeze(),\n",
    "            \"labels\": target[\"input_ids\"].squeeze()\n",
    "        }\n"
   ]
  },
  {
   "cell_type": "code",
   "execution_count": 10,
   "id": "642aa312",
   "metadata": {},
   "outputs": [],
   "source": [
    "\n",
    "def prepare_data(dataframe, tokenizer, batch_size=4):\n",
    "    # Split data into train and validation\n",
    "    train_df, val_df = train_test_split(dataframe, test_size=0.2, random_state=42)\n",
    "    \n",
    "    # Create datasets with fixed lengths\n",
    "    train_dataset = TeluguSummaryDataset(train_df, tokenizer)\n",
    "    val_dataset = TeluguSummaryDataset(val_df, tokenizer)\n",
    "    \n",
    "    # Create dataloaders\n",
    "    train_loader = DataLoader(train_dataset, batch_size=batch_size, shuffle=True)\n",
    "    val_loader = DataLoader(val_dataset, batch_size=batch_size, shuffle=False)\n",
    "    \n",
    "    return train_loader, val_loader\n"
   ]
  },
  {
   "cell_type": "code",
   "execution_count": 11,
   "id": "1dd0313e",
   "metadata": {},
   "outputs": [],
   "source": [
    "\n",
    "# 2. Model Training Functions\n",
    "def initialize_model(model_name=\"google/mt5-small\"):\n",
    "    tokenizer = T5Tokenizer.from_pretrained(model_name)\n",
    "    model = T5ForConditionalGeneration.from_pretrained(model_name).to(device)\n",
    "    return tokenizer, model\n"
   ]
  },
  {
   "cell_type": "code",
   "execution_count": 12,
   "id": "a7710965",
   "metadata": {},
   "outputs": [],
   "source": [
    "\n",
    "def train_model(model, train_loader, val_loader, tokenizer, epochs=3, learning_rate=3e-4):\n",
    "    optimizer = AdamW(model.parameters(), lr=learning_rate)\n",
    "    scheduler = get_linear_schedule_with_warmup(\n",
    "        optimizer,\n",
    "        num_warmup_steps=0,\n",
    "        num_training_steps=len(train_loader)*epochs\n",
    "    )\n",
    "    \n",
    "    best_val_loss = float('inf')\n",
    "    \n",
    "    for epoch in range(epochs):\n",
    "        print(f\"Epoch {epoch+1}/{epochs}\")\n",
    "        \n",
    "        # Training\n",
    "        model.train()\n",
    "        train_loss = 0\n",
    "        for batch in tqdm(train_loader, desc=\"Training\"):\n",
    "            optimizer.zero_grad()\n",
    "            \n",
    "            input_ids = batch['input_ids'].to(device)\n",
    "            attention_mask = batch['attention_mask'].to(device)\n",
    "            labels = batch['labels'].to(device)\n",
    "            \n",
    "            outputs = model(\n",
    "                input_ids=input_ids,\n",
    "                attention_mask=attention_mask,\n",
    "                labels=labels\n",
    "            )\n",
    "            \n",
    "            loss = outputs.loss\n",
    "            train_loss += loss.item()\n",
    "            \n",
    "            loss.backward()\n",
    "            optimizer.step()\n",
    "            scheduler.step()\n",
    "        \n",
    "        avg_train_loss = train_loss / len(train_loader)\n",
    "        \n",
    "        # Validation\n",
    "        val_loss, rouge_scores = evaluate_model(model, val_loader, tokenizer)\n",
    "        \n",
    "        print(f\"Train Loss: {avg_train_loss:.4f}, Val Loss: {val_loss:.4f}\")\n",
    "        print(f\"Validation ROUGE Scores: {rouge_scores}\")\n",
    "        \n",
    "        # Save best model\n",
    "        if val_loss < best_val_loss:\n",
    "            best_val_loss = val_loss\n",
    "            torch.save(model.state_dict(), \"best_telugu_summarization_model.pt\")\n",
    "    \n",
    "    return model\n"
   ]
  },
  {
   "cell_type": "code",
   "execution_count": 13,
   "id": "34e1110d",
   "metadata": {},
   "outputs": [],
   "source": [
    "\n",
    "def evaluate_model(model, data_loader, tokenizer):\n",
    "    model.eval()\n",
    "    total_loss = 0\n",
    "    scorer = rouge_scorer.RougeScorer(['rouge1', 'rouge2', 'rougeL'], use_stemmer=True)\n",
    "    rouge_scores = {'rouge1': [], 'rouge2': [], 'rougeL': []}\n",
    "    \n",
    "    with torch.no_grad():\n",
    "        for batch in tqdm(data_loader, desc=\"Evaluating\"):\n",
    "            input_ids = batch['input_ids'].to(device)\n",
    "            attention_mask = batch['attention_mask'].to(device)\n",
    "            labels = batch['labels'].to(device)\n",
    "            \n",
    "            outputs = model(\n",
    "                input_ids=input_ids,\n",
    "                attention_mask=attention_mask,\n",
    "                labels=labels\n",
    "            )\n",
    "            \n",
    "            total_loss += outputs.loss.item()\n",
    "            \n",
    "            # Generate summaries for ROUGE calculation\n",
    "            generated_ids = model.generate(\n",
    "                input_ids=input_ids,\n",
    "                attention_mask=attention_mask,\n",
    "                max_length=ABSTRACTIVE_SUMMARY_LENGTH,\n",
    "                num_beams=4,\n",
    "                early_stopping=True\n",
    "            )\n",
    "            \n",
    "            # Decode and calculate ROUGE\n",
    "            preds = [tokenizer.decode(g, skip_special_tokens=True, clean_up_tokenization_spaces=True) for g in generated_ids]\n",
    "            targets = [tokenizer.decode(t, skip_special_tokens=True, clean_up_tokenization_spaces=True) for t in labels]\n",
    "            \n",
    "            for pred, target in zip(preds, targets):\n",
    "                scores = scorer.score(target, pred)\n",
    "                rouge_scores['rouge1'].append(scores['rouge1'].fmeasure)\n",
    "                rouge_scores['rouge2'].append(scores['rouge2'].fmeasure)\n",
    "                rouge_scores['rougeL'].append(scores['rougeL'].fmeasure)\n",
    "    \n",
    "    avg_loss = total_loss / len(data_loader)\n",
    "    avg_rouge = {k: np.mean(v) for k, v in rouge_scores.items()}\n",
    "    \n",
    "    return avg_loss, avg_rouge\n"
   ]
  },
  {
   "cell_type": "code",
   "execution_count": 14,
   "id": "3a1b7ac8",
   "metadata": {},
   "outputs": [],
   "source": [
    "\n",
    "# 3. Inference Functions\n",
    "def generate_summary(model, tokenizer, text, max_length=ABSTRACTIVE_SUMMARY_LENGTH):\n",
    "    model.eval()\n",
    "    \n",
    "    inputs = tokenizer.encode_plus(\n",
    "        text,\n",
    "        max_length=EXTRACTIVE_SUMMARY_LENGTH,\n",
    "        padding='max_length',\n",
    "        truncation=True,\n",
    "        return_tensors=\"pt\"\n",
    "    ).to(device)\n",
    "    \n",
    "    summary_ids = model.generate(\n",
    "        input_ids=inputs['input_ids'],\n",
    "        attention_mask=inputs['attention_mask'],\n",
    "        max_length=max_length,\n",
    "        num_beams=4,\n",
    "        early_stopping=True\n",
    "    )\n",
    "    \n",
    "    return tokenizer.decode(summary_ids[0], skip_special_tokens=True, clean_up_tokenization_spaces=True)\n"
   ]
  },
  {
   "cell_type": "code",
   "execution_count": 15,
   "id": "82db2818",
   "metadata": {},
   "outputs": [],
   "source": [
    "\n",
    "def evaluate_test_set(model, tokenizer, test_df):\n",
    "    scorer = rouge_scorer.RougeScorer(['rouge1', 'rouge2', 'rougeL'], use_stemmer=True)\n",
    "    rouge_scores = {'rouge1': [], 'rouge2': [], 'rougeL': []}\n",
    "    results = []\n",
    "    \n",
    "    for idx, row in tqdm(test_df.iterrows(), total=len(test_df), desc=\"Evaluating Test Set\"):\n",
    "        extractive_summary = str(row['test'])\n",
    "        reference_summary = str(row['summary'])\n",
    "        \n",
    "        generated_summary = generate_summary(model, tokenizer, extractive_summary)\n",
    "        \n",
    "        scores = scorer.score(reference_summary, generated_summary)\n",
    "        rouge_scores['rouge1'].append(scores['rouge1'].fmeasure)\n",
    "        rouge_scores['rouge2'].append(scores['rouge2'].fmeasure)\n",
    "        rouge_scores['rougeL'].append(scores['rougeL'].fmeasure)\n",
    "        \n",
    "        results.append({\n",
    "            'Extractive_Summary': extractive_summary,\n",
    "            'Reference_Summary': reference_summary,\n",
    "            'Generated_Summary': generated_summary,\n",
    "            'ROUGE-1': scores['rouge1'].fmeasure,\n",
    "            'ROUGE-2': scores['rouge2'].fmeasure,\n",
    "            'ROUGE-L': scores['rougeL'].fmeasure\n",
    "        })\n",
    "    \n",
    "    avg_rouge = {k: np.mean(v) for k, v in rouge_scores.items()}\n",
    "    results_df = pd.DataFrame(results)\n",
    "    \n",
    "    return results_df, avg_rouge\n"
   ]
  },
  {
   "cell_type": "code",
   "execution_count": 16,
   "id": "3e96057e",
   "metadata": {},
   "outputs": [],
   "source": [
    "\n",
    "# 4. Main Workflow Functions\n",
    "def full_training_pipeline(dataframe, batch_size=4, epochs=10,learning_rate=3e-4):\n",
    "    # Initialize model and tokenizer\n",
    "    tokenizer, model = initialize_model()\n",
    "    \n",
    "    # Prepare data\n",
    "    train_loader, val_loader = prepare_data(dataframe, tokenizer, batch_size)\n",
    "    \n",
    "    # Train model\n",
    "    trained_model = train_model(\n",
    "        model, \n",
    "        train_loader, \n",
    "        val_loader, \n",
    "        tokenizer, \n",
    "        epochs=epochs, \n",
    "        learning_rate=learning_rate\n",
    "    )\n",
    "    \n",
    "    return trained_model, tokenizer\n"
   ]
  },
  {
   "cell_type": "code",
   "execution_count": 17,
   "id": "7d19c39b",
   "metadata": {},
   "outputs": [],
   "source": [
    "\n",
    "def inference_pipeline(model, tokenizer, text_or_dataframe):\n",
    "    if isinstance(text_or_dataframe, str):\n",
    "        # Single text input\n",
    "        return generate_summary(model, tokenizer, text_or_dataframe)\n",
    "    elif isinstance(text_or_dataframe, pd.DataFrame):\n",
    "        # Dataframe input (test set)\n",
    "        return evaluate_test_set(model, tokenizer, text_or_dataframe)\n",
    "    else:\n",
    "        raise ValueError(\"Input must be either text string or pandas DataFrame\")"
   ]
  },
  {
   "cell_type": "code",
   "execution_count": 18,
   "id": "9d2248bf",
   "metadata": {},
   "outputs": [
    {
     "name": "stderr",
     "output_type": "stream",
     "text": [
      "You are using the default legacy behaviour of the <class 'transformers.models.t5.tokenization_t5.T5Tokenizer'>. This is expected, and simply means that the `legacy` (previous) behavior will be used so nothing changes for you. If you want to use the new behaviour, set `legacy=False`. This should only be set if you understand what it means, and thoroughly read the reason why this was added as explained in https://github.com/huggingface/transformers/pull/24565\n",
      "You are using a model of type mt5 to instantiate a model of type t5. This is not supported for all configurations of models and can yield errors.\n",
      "c:\\Users\\SHAM\\AppData\\Local\\Programs\\Python\\Python312\\Lib\\site-packages\\transformers\\optimization.py:591: FutureWarning: This implementation of AdamW is deprecated and will be removed in a future version. Use the PyTorch implementation torch.optim.AdamW instead, or set `no_deprecation_warning=True` to disable this warning\n",
      "  warnings.warn(\n"
     ]
    },
    {
     "name": "stdout",
     "output_type": "stream",
     "text": [
      "Epoch 1/10\n"
     ]
    },
    {
     "name": "stderr",
     "output_type": "stream",
     "text": [
      "Training:   0%|          | 0/1888 [00:00<?, ?it/s]Passing a tuple of `past_key_values` is deprecated and will be removed in Transformers v4.48.0. You should pass an instance of `EncoderDecoderCache` instead, e.g. `past_key_values=EncoderDecoderCache.from_legacy_cache(past_key_values)`.\n",
      "Training: 100%|██████████| 1888/1888 [1:18:35<00:00,  2.50s/it]\n",
      "Evaluating: 100%|██████████| 472/472 [11:52<00:00,  1.51s/it]\n"
     ]
    },
    {
     "name": "stdout",
     "output_type": "stream",
     "text": [
      "Train Loss: 3.4273, Val Loss: 1.7433\n",
      "Validation ROUGE Scores: {'rouge1': 0.084727230973361, 'rouge2': 0.035880423629306914, 'rougeL': 0.0839193788678394}\n",
      "Epoch 2/10\n"
     ]
    },
    {
     "name": "stderr",
     "output_type": "stream",
     "text": [
      "Training: 100%|██████████| 1888/1888 [1:12:04<00:00,  2.29s/it]\n",
      "Evaluating: 100%|██████████| 472/472 [31:29<00:00,  4.00s/it]\n"
     ]
    },
    {
     "name": "stdout",
     "output_type": "stream",
     "text": [
      "Train Loss: 2.0701, Val Loss: 1.5640\n",
      "Validation ROUGE Scores: {'rouge1': 0.12458313351005341, 'rouge2': 0.06074423440606143, 'rougeL': 0.12402257560044888}\n",
      "Epoch 3/10\n"
     ]
    },
    {
     "name": "stderr",
     "output_type": "stream",
     "text": [
      "Training: 100%|██████████| 1888/1888 [1:09:23<00:00,  2.21s/it]\n",
      "Evaluating: 100%|██████████| 472/472 [11:11<00:00,  1.42s/it]\n"
     ]
    },
    {
     "name": "stdout",
     "output_type": "stream",
     "text": [
      "Train Loss: 1.7789, Val Loss: 1.4517\n",
      "Validation ROUGE Scores: {'rouge1': 0.16526013411624668, 'rouge2': 0.08688687248049921, 'rougeL': 0.1638871932796655}\n",
      "Epoch 4/10\n"
     ]
    },
    {
     "name": "stderr",
     "output_type": "stream",
     "text": [
      "Training: 100%|██████████| 1888/1888 [1:08:30<00:00,  2.18s/it]\n",
      "Evaluating: 100%|██████████| 472/472 [11:16<00:00,  1.43s/it]\n"
     ]
    },
    {
     "name": "stdout",
     "output_type": "stream",
     "text": [
      "Train Loss: 1.5957, Val Loss: 1.4068\n",
      "Validation ROUGE Scores: {'rouge1': 0.18300924875428337, 'rouge2': 0.10660300853512338, 'rougeL': 0.1819982429459508}\n",
      "Epoch 5/10\n"
     ]
    },
    {
     "name": "stderr",
     "output_type": "stream",
     "text": [
      "Training: 100%|██████████| 1888/1888 [1:08:22<00:00,  2.17s/it]\n",
      "Evaluating: 100%|██████████| 472/472 [11:13<00:00,  1.43s/it]\n"
     ]
    },
    {
     "name": "stdout",
     "output_type": "stream",
     "text": [
      "Train Loss: 1.4716, Val Loss: 1.3580\n",
      "Validation ROUGE Scores: {'rouge1': 0.19928375992244418, 'rouge2': 0.12148643286479778, 'rougeL': 0.19832913545087055}\n",
      "Epoch 6/10\n"
     ]
    },
    {
     "name": "stderr",
     "output_type": "stream",
     "text": [
      "Training: 100%|██████████| 1888/1888 [1:08:12<00:00,  2.17s/it]\n",
      "Evaluating: 100%|██████████| 472/472 [11:17<00:00,  1.43s/it]\n"
     ]
    },
    {
     "name": "stdout",
     "output_type": "stream",
     "text": [
      "Train Loss: 1.3815, Val Loss: 1.3097\n",
      "Validation ROUGE Scores: {'rouge1': 0.21336656437958934, 'rouge2': 0.1307254876825529, 'rougeL': 0.21219018281001237}\n",
      "Epoch 7/10\n"
     ]
    },
    {
     "name": "stderr",
     "output_type": "stream",
     "text": [
      "Training: 100%|██████████| 1888/1888 [1:08:15<00:00,  2.17s/it]\n",
      "Evaluating: 100%|██████████| 472/472 [11:14<00:00,  1.43s/it]\n"
     ]
    },
    {
     "name": "stdout",
     "output_type": "stream",
     "text": [
      "Train Loss: 1.3073, Val Loss: 1.2763\n",
      "Validation ROUGE Scores: {'rouge1': 0.21623165065728, 'rouge2': 0.13439213211458975, 'rougeL': 0.21514231128279607}\n",
      "Epoch 8/10\n"
     ]
    },
    {
     "name": "stderr",
     "output_type": "stream",
     "text": [
      "Training: 100%|██████████| 1888/1888 [1:08:17<00:00,  2.17s/it]\n",
      "Evaluating: 100%|██████████| 472/472 [11:13<00:00,  1.43s/it]\n"
     ]
    },
    {
     "name": "stdout",
     "output_type": "stream",
     "text": [
      "Train Loss: 1.2508, Val Loss: 1.2776\n",
      "Validation ROUGE Scores: {'rouge1': 0.22699430931453615, 'rouge2': 0.14043982225154172, 'rougeL': 0.22572053220264834}\n",
      "Epoch 9/10\n"
     ]
    },
    {
     "name": "stderr",
     "output_type": "stream",
     "text": [
      "Training: 100%|██████████| 1888/1888 [1:08:16<00:00,  2.17s/it]\n",
      "Evaluating: 100%|██████████| 472/472 [11:13<00:00,  1.43s/it]\n"
     ]
    },
    {
     "name": "stdout",
     "output_type": "stream",
     "text": [
      "Train Loss: 1.2020, Val Loss: 1.2647\n",
      "Validation ROUGE Scores: {'rouge1': 0.23256644269309398, 'rouge2': 0.14776343378595833, 'rougeL': 0.23115096406238606}\n",
      "Epoch 10/10\n"
     ]
    },
    {
     "name": "stderr",
     "output_type": "stream",
     "text": [
      "Training: 100%|██████████| 1888/1888 [1:08:16<00:00,  2.17s/it]\n",
      "Evaluating: 100%|██████████| 472/472 [11:14<00:00,  1.43s/it]"
     ]
    },
    {
     "name": "stdout",
     "output_type": "stream",
     "text": [
      "Train Loss: 1.1675, Val Loss: 1.2715\n",
      "Validation ROUGE Scores: {'rouge1': 0.2336222788545508, 'rouge2': 0.15044555480759206, 'rougeL': 0.232464064146361}\n"
     ]
    },
    {
     "name": "stderr",
     "output_type": "stream",
     "text": [
      "\n"
     ]
    }
   ],
   "source": [
    "\n",
    "# Run training pipeline\n",
    "model, tokenizer = full_training_pipeline(df_train, batch_size=4, epochs=10)"
   ]
  },
  {
   "cell_type": "code",
   "execution_count": 19,
   "id": "f48840a5",
   "metadata": {},
   "outputs": [
    {
     "data": {
      "text/plain": [
       "<bound method Module.eval of T5ForConditionalGeneration(\n",
       "  (shared): Embedding(250112, 512)\n",
       "  (encoder): T5Stack(\n",
       "    (embed_tokens): Embedding(250112, 512)\n",
       "    (block): ModuleList(\n",
       "      (0): T5Block(\n",
       "        (layer): ModuleList(\n",
       "          (0): T5LayerSelfAttention(\n",
       "            (SelfAttention): T5Attention(\n",
       "              (q): Linear(in_features=512, out_features=384, bias=False)\n",
       "              (k): Linear(in_features=512, out_features=384, bias=False)\n",
       "              (v): Linear(in_features=512, out_features=384, bias=False)\n",
       "              (o): Linear(in_features=384, out_features=512, bias=False)\n",
       "              (relative_attention_bias): Embedding(32, 6)\n",
       "            )\n",
       "            (layer_norm): T5LayerNorm()\n",
       "            (dropout): Dropout(p=0.1, inplace=False)\n",
       "          )\n",
       "          (1): T5LayerFF(\n",
       "            (DenseReluDense): T5DenseGatedActDense(\n",
       "              (wi_0): Linear(in_features=512, out_features=1024, bias=False)\n",
       "              (wi_1): Linear(in_features=512, out_features=1024, bias=False)\n",
       "              (wo): Linear(in_features=1024, out_features=512, bias=False)\n",
       "              (dropout): Dropout(p=0.1, inplace=False)\n",
       "              (act): NewGELUActivation()\n",
       "            )\n",
       "            (layer_norm): T5LayerNorm()\n",
       "            (dropout): Dropout(p=0.1, inplace=False)\n",
       "          )\n",
       "        )\n",
       "      )\n",
       "      (1-7): 7 x T5Block(\n",
       "        (layer): ModuleList(\n",
       "          (0): T5LayerSelfAttention(\n",
       "            (SelfAttention): T5Attention(\n",
       "              (q): Linear(in_features=512, out_features=384, bias=False)\n",
       "              (k): Linear(in_features=512, out_features=384, bias=False)\n",
       "              (v): Linear(in_features=512, out_features=384, bias=False)\n",
       "              (o): Linear(in_features=384, out_features=512, bias=False)\n",
       "            )\n",
       "            (layer_norm): T5LayerNorm()\n",
       "            (dropout): Dropout(p=0.1, inplace=False)\n",
       "          )\n",
       "          (1): T5LayerFF(\n",
       "            (DenseReluDense): T5DenseGatedActDense(\n",
       "              (wi_0): Linear(in_features=512, out_features=1024, bias=False)\n",
       "              (wi_1): Linear(in_features=512, out_features=1024, bias=False)\n",
       "              (wo): Linear(in_features=1024, out_features=512, bias=False)\n",
       "              (dropout): Dropout(p=0.1, inplace=False)\n",
       "              (act): NewGELUActivation()\n",
       "            )\n",
       "            (layer_norm): T5LayerNorm()\n",
       "            (dropout): Dropout(p=0.1, inplace=False)\n",
       "          )\n",
       "        )\n",
       "      )\n",
       "    )\n",
       "    (final_layer_norm): T5LayerNorm()\n",
       "    (dropout): Dropout(p=0.1, inplace=False)\n",
       "  )\n",
       "  (decoder): T5Stack(\n",
       "    (embed_tokens): Embedding(250112, 512)\n",
       "    (block): ModuleList(\n",
       "      (0): T5Block(\n",
       "        (layer): ModuleList(\n",
       "          (0): T5LayerSelfAttention(\n",
       "            (SelfAttention): T5Attention(\n",
       "              (q): Linear(in_features=512, out_features=384, bias=False)\n",
       "              (k): Linear(in_features=512, out_features=384, bias=False)\n",
       "              (v): Linear(in_features=512, out_features=384, bias=False)\n",
       "              (o): Linear(in_features=384, out_features=512, bias=False)\n",
       "              (relative_attention_bias): Embedding(32, 6)\n",
       "            )\n",
       "            (layer_norm): T5LayerNorm()\n",
       "            (dropout): Dropout(p=0.1, inplace=False)\n",
       "          )\n",
       "          (1): T5LayerCrossAttention(\n",
       "            (EncDecAttention): T5Attention(\n",
       "              (q): Linear(in_features=512, out_features=384, bias=False)\n",
       "              (k): Linear(in_features=512, out_features=384, bias=False)\n",
       "              (v): Linear(in_features=512, out_features=384, bias=False)\n",
       "              (o): Linear(in_features=384, out_features=512, bias=False)\n",
       "            )\n",
       "            (layer_norm): T5LayerNorm()\n",
       "            (dropout): Dropout(p=0.1, inplace=False)\n",
       "          )\n",
       "          (2): T5LayerFF(\n",
       "            (DenseReluDense): T5DenseGatedActDense(\n",
       "              (wi_0): Linear(in_features=512, out_features=1024, bias=False)\n",
       "              (wi_1): Linear(in_features=512, out_features=1024, bias=False)\n",
       "              (wo): Linear(in_features=1024, out_features=512, bias=False)\n",
       "              (dropout): Dropout(p=0.1, inplace=False)\n",
       "              (act): NewGELUActivation()\n",
       "            )\n",
       "            (layer_norm): T5LayerNorm()\n",
       "            (dropout): Dropout(p=0.1, inplace=False)\n",
       "          )\n",
       "        )\n",
       "      )\n",
       "      (1-7): 7 x T5Block(\n",
       "        (layer): ModuleList(\n",
       "          (0): T5LayerSelfAttention(\n",
       "            (SelfAttention): T5Attention(\n",
       "              (q): Linear(in_features=512, out_features=384, bias=False)\n",
       "              (k): Linear(in_features=512, out_features=384, bias=False)\n",
       "              (v): Linear(in_features=512, out_features=384, bias=False)\n",
       "              (o): Linear(in_features=384, out_features=512, bias=False)\n",
       "            )\n",
       "            (layer_norm): T5LayerNorm()\n",
       "            (dropout): Dropout(p=0.1, inplace=False)\n",
       "          )\n",
       "          (1): T5LayerCrossAttention(\n",
       "            (EncDecAttention): T5Attention(\n",
       "              (q): Linear(in_features=512, out_features=384, bias=False)\n",
       "              (k): Linear(in_features=512, out_features=384, bias=False)\n",
       "              (v): Linear(in_features=512, out_features=384, bias=False)\n",
       "              (o): Linear(in_features=384, out_features=512, bias=False)\n",
       "            )\n",
       "            (layer_norm): T5LayerNorm()\n",
       "            (dropout): Dropout(p=0.1, inplace=False)\n",
       "          )\n",
       "          (2): T5LayerFF(\n",
       "            (DenseReluDense): T5DenseGatedActDense(\n",
       "              (wi_0): Linear(in_features=512, out_features=1024, bias=False)\n",
       "              (wi_1): Linear(in_features=512, out_features=1024, bias=False)\n",
       "              (wo): Linear(in_features=1024, out_features=512, bias=False)\n",
       "              (dropout): Dropout(p=0.1, inplace=False)\n",
       "              (act): NewGELUActivation()\n",
       "            )\n",
       "            (layer_norm): T5LayerNorm()\n",
       "            (dropout): Dropout(p=0.1, inplace=False)\n",
       "          )\n",
       "        )\n",
       "      )\n",
       "    )\n",
       "    (final_layer_norm): T5LayerNorm()\n",
       "    (dropout): Dropout(p=0.1, inplace=False)\n",
       "  )\n",
       "  (lm_head): Linear(in_features=512, out_features=250112, bias=False)\n",
       ")>"
      ]
     },
     "execution_count": 19,
     "metadata": {},
     "output_type": "execute_result"
    }
   ],
   "source": [
    "model.eval"
   ]
  },
  {
   "cell_type": "code",
   "execution_count": 20,
   "id": "08d03845",
   "metadata": {},
   "outputs": [],
   "source": [
    "\n",
    "# 3. Inference Functions\n",
    "def generate_summary(model, tokenizer, text, max_length=ABSTRACTIVE_SUMMARY_LENGTH):\n",
    "    model.eval()\n",
    "    \n",
    "    inputs = tokenizer.encode_plus(\n",
    "        text,\n",
    "        max_length=EXTRACTIVE_SUMMARY_LENGTH,\n",
    "        padding='max_length',\n",
    "        truncation=True,\n",
    "        return_tensors=\"pt\"\n",
    "    ).to(device)\n",
    "    \n",
    "    summary_ids = model.generate(\n",
    "        input_ids=inputs['input_ids'],\n",
    "        attention_mask=inputs['attention_mask'],\n",
    "        max_length=max_length,\n",
    "        num_beams=4,\n",
    "        early_stopping=True\n",
    "    )\n",
    "    \n",
    "    return tokenizer.decode(summary_ids[0], skip_special_tokens=True, clean_up_tokenization_spaces=True)\n"
   ]
  },
  {
   "cell_type": "code",
   "execution_count": 31,
   "id": "a153a094",
   "metadata": {},
   "outputs": [],
   "source": [
    "text1='హైదరాబాద్ సెంట్రల్ యూనివర్శిటీ (HCU) భూముల వివాదం రాష్ట్రవ్యాప్తంగా తీవ్ర చర్చనీయాంశంగా మారింది. యూనివర్శిటీ పరిధిలోని సుమారు 400 ఎకరాల భూమిని ప్రభుత్వ అభివృద్ధి కార్యక్రమాల కోసం టెక్నాలజీ పార్క్ నిర్మాణానికి కేటాయించనున్నట్టు సమాచారం వెలుగులోకి రాగానే, విద్యార్థులు, పర్యావరణ ప్రేమికులు, స్థానికులు తీవ్ర వ్యతిరేకత వ్యక్తం చేస్తున్నారు. విద్యార్థులు పెద్ద ఎత్తున ఆందోళనలకు దిగుతూ ఈ నిర్ణయం విద్యా సంస్థ భవిష్యత్తుపై ప్రభావం చూపుతుందని పేర్కొంటున్నారు. పర్యావరణ పరిరక్షణ కోణంలోనూ ఈ వివాదం కొత్త మలుపులు తిరుగుతోంది—చెట్లు నరికివేత, మూగజీవాల నివాసాలు ధ్వంసం కావడం వంటి అంశాలు తీవ్ర ఆందోళనకు దారితీశాయి. ఈ తరుణంలో పలువురు సినీ ప్రముఖులు, సామాజిక కార్యకర్తలు, రాజకీయ నాయకులు విద్యార్థుల పోరాటానికి మద్దతు తెలుపుతూ స్పందిస్తున్నారు. ప్రజల ఒత్తిడితో ఈ అంశం సుప్రీం కోర్టు దృష్టికి వెళ్లింది. కోర్టు ప్రస్తుతానికి భూ అభివృద్ధి పనులను తాత్కాలికంగా నిలిపివేసి, రాష్ట్ర ప్రభుత్వాన్ని వివరణ కోరింది. ఈ పరిణామాల నేపథ్యంలో విద్యార్థుల్లో ఆందోళన ఇంకా కొనసాగుతుండగా, యూనివర్శిటీ భవిష్యత్తు దిశగా సుదీర్ఘ చర్చలు, పరిశీలనలు జరుగుతుండటం గమనార్హం.'\n",
    "generat_summary=generate_summary(model,tokenizer,text1,max_length=90)"
   ]
  },
  {
   "cell_type": "code",
   "execution_count": 32,
   "id": "c43d2e33",
   "metadata": {},
   "outputs": [
    {
     "data": {
      "text/plain": [
       "'Hyderabad యూనివర్శిటీ పరిధిలోని సుమారు 400 ఎకరాల భూమిని ప్రభుత్వ అభివృద్ధి కార్యక్రమాల కోసం టెక్నాలజీ పార్క్ నిర్మాణానికి కేటాయించనున్నట్టు సమాచారం వెలుగులోకి రాగానే, విద్యార్థులు, పర్యావరణ ప్రేమికులు, స్థానికులు తీవ్ర వ్యతిరేకత వ్యక్తం చేస్తున్నారు.'"
      ]
     },
     "execution_count": 32,
     "metadata": {},
     "output_type": "execute_result"
    }
   ],
   "source": [
    "generat_summary"
   ]
  },
  {
   "cell_type": "code",
   "execution_count": 41,
   "id": "13e39d6e",
   "metadata": {},
   "outputs": [],
   "source": [
    "text2='తెలంగాణ ప్రభుత్వం హరితహారం కార్యక్రమాన్ని ప్రతిష్టాత్మకంగా చేపట్టింది. మొక్కల పెంపకానికి అనేక చర్యలు తీసుకుంది. ప్రతి సంవత్సరం కోట్ల మొక్కలు నాటుతుంది. ఆడవులు పెంచండి.. కోతులను అడవులకు పంపండి అనే నినాదాంతో సీఎం కేసీఆర్ ఈ కార్యక్రమానికి శ్రీకారం చుట్టారు. అయితే సీఎం ఆలోచనలకు అనుగుణంగా మొక్కల సంరక్షణలో నిజామాబాద్ జిల్లా అధికారులు సైతం కఠినంగా వ్యవహరిస్తున్నారు. హరిత హారంలో నాటిన మొక్కలను మేసిన మేకలకు జరిమానా విధించారు. వివరాలు ఇలా ఉన్నాయి. నిజామాబాద్ జిల్లా బోధన్ మున్సిపాలిటీ ఆవరణలో హరితహారం లో మొక్కలు నాటారు. మొక్కల సంరక్షణ కోసం తగిన చర్యలు చేపట్టారు. అయితే మున్సిపాలిటీ ఆవరణలో ఉన్న మొక్కలను మూడు మేకలు మేశాయి. ఇది గమనించిన మున్సిపల్ కమిషనర్ రాజలింగం మేకలను బంధించాలని సిబ్బందికి సూచించారు. మేకల యజమాని తస్లిమ్ బేగం కు సమాచారం అందించారు.. దీంతో విషయం తెలిసిన యజమాని మున్సిఫల్ కార్యలయానికి వచ్చారు.. మున్సిపల్ కార్యలయంలోని మెక్కలను మీకు సంబంధిచిన మేకలు మేశాయి. దీంతో వాటికి ఒకొక్క మేకకు 5వందల రూపాయల జరిమానా విధిస్తున్నామని కమిషనర్ తెలిపారు. దీంతో చేసేదేమి లేక మేకల యజమాని తస్లిమ బేగం జరిమానా కట్టి తన మేకలను విడిపించుకుని వెళ్లింది. ఇలా మరో సారి జరిగితే పెద్ద మొత్తంలో జరిమానా విధిస్థామని కమిషనర్ తెలిపారు. హరితహారం మొక్కల సంరక్షణ కు ప్రతి ఒక్కరు తమ వంతు బాధ్యత తీసుకోవాలని కమిషనర్ కోరారు. హరితహారం మొక్కలు ధ్వంసం చేసినా.. వాటిని నరికినా కఠిన చర్యలు తీసుకుంటామని హెచ్చరించారు.'\n",
    "generate_summary1=generate_summary(model,tokenizer,text2,max_length=70)"
   ]
  },
  {
   "cell_type": "code",
   "execution_count": 42,
   "id": "600bda41",
   "metadata": {},
   "outputs": [
    {
     "data": {
      "text/plain": [
       "'తెలంగాణ ప్రభుత్వం హరితహారం కార్యక్రమాన్ని ప్రతిష్టాత్మకంగా చేపట్టింది. మొక్కల పెంపకానికి అనేక చర్యలు తీసుకుంది. ప్రతి సంవత్సరం కోట్ల మొక్కలు నాటుతుంది. ఆడవులు పెంచ'"
      ]
     },
     "execution_count": 42,
     "metadata": {},
     "output_type": "execute_result"
    }
   ],
   "source": [
    "generate_summary1"
   ]
  },
  {
   "cell_type": "code",
   "execution_count": 6,
   "id": "1a95d3a9",
   "metadata": {},
   "outputs": [],
   "source": [
    "text1='హైదరాబాద్ సెంట్రల్ యూనివర్శిటీ (HCU) భూముల వివాదం రాష్ట్రవ్యాప్తంగా తీవ్ర చర్చనీయాంశంగా మారింది. యూనివర్శిటీ పరిధిలోని సుమారు 400 ఎకరాల భూమిని ప్రభుత్వ అభివృద్ధి కార్యక్రమాల కోసం టెక్నాలజీ పార్క్ నిర్మాణానికి కేటాయించనున్నట్టు సమాచారం వెలుగులోకి రాగానే, విద్యార్థులు, పర్యావరణ ప్రేమికులు, స్థానికులు తీవ్ర వ్యతిరేకత వ్యక్తం చేస్తున్నారు. విద్యార్థులు పెద్ద ఎత్తున ఆందోళనలకు దిగుతూ ఈ నిర్ణయం విద్యా సంస్థ భవిష్యత్తుపై ప్రభావం చూపుతుందని పేర్కొంటున్నారు. పర్యావరణ పరిరక్షణ కోణంలోనూ ఈ వివాదం కొత్త మలుపులు తిరుగుతోంది—చెట్లు నరికివేత, మూగజీవాల నివాసాలు ధ్వంసం కావడం వంటి అంశాలు తీవ్ర ఆందోళనకు దారితీశాయి. ఈ తరుణంలో పలువురు సినీ ప్రముఖులు, సామాజిక కార్యకర్తలు, రాజకీయ నాయకులు విద్యార్థుల పోరాటానికి మద్దతు తెలుపుతూ స్పందిస్తున్నారు. ప్రజల ఒత్తిడితో ఈ అంశం సుప్రీం కోర్టు దృష్టికి వెళ్లింది. కోర్టు ప్రస్తుతానికి భూ అభివృద్ధి పనులను తాత్కాలికంగా నిలిపివేసి, రాష్ట్ర ప్రభుత్వాన్ని వివరణ కోరింది. ఈ పరిణామాల నేపథ్యంలో విద్యార్థుల్లో ఆందోళన ఇంకా కొనసాగుతుండగా, యూనివర్శిటీ భవిష్యత్తు దిశగా సుదీర్ఘ చర్చలు, పరిశీలనలు జరుగుతుండటం గమనార్హం.'\n",
    "#generat_summary='తెలంగాణ ప్రభుత్వం హరితహారం కార్యక్రమాన్ని ప్ర\n",
    "# తిష్టాత్మకంగా చేపట్టింది. మొక్కల పెంపకానికి అనేక చర్యలు తీసుకుంది. ప్రతి సంవత్సరం కోట్ల మొక్కలు నాటుతుంది. ఆడవులు పెంచ'\n",
    "generat_summary='Hyderabad యూనివర్శిటీ పరిధిలోని సుమారు 400 ఎకరాల భూమిని ప్రభుత్వ అభివృద్ధి కార్యక్రమాల కోసం టెక్నాలజీ పార్క్ నిర్మాణానికి కేటాయించనున్నట్టు సమాచారం వెలుగులోకి రాగానే, విద్యార్థులు, పర్యావరణ ప్రేమికులు, స్థానికులు తీవ్ర వ్యతిరేకత వ్యక్తం చేస్తున్నారు.'"
   ]
  },
  {
   "cell_type": "code",
   "execution_count": 46,
   "id": "2614de1c",
   "metadata": {},
   "outputs": [
    {
     "name": "stdout",
     "output_type": "stream",
     "text": [
      "ROUGE-1: 0.5\n",
      "ROUGE-2: 0.0\n",
      "ROUGE-L: 0.5\n"
     ]
    }
   ],
   "source": [
    "# Calculate ROUGE scores\n",
    "scores = scorer.score(text1, generat_summary)\n",
    "\n",
    "# Print the scores\n",
    "print(\"ROUGE-1:\", scores['rouge1'].fmeasure)\n",
    "print(\"ROUGE-2:\", scores['rouge2'].fmeasure)\n",
    "print(\"ROUGE-L:\", scores['rougeL'].fmeasure)"
   ]
  },
  {
   "cell_type": "code",
   "execution_count": 7,
   "id": "149f9d81",
   "metadata": {
    "vscode": {
     "languageId": "ruby"
    }
   },
   "outputs": [
    {
     "name": "stdout",
     "output_type": "stream",
     "text": [
      "ROUGE-1:\n",
      "  Precision: 0.5000\n",
      "  Recall: 0.5000\n",
      "  F1-Score: 0.5000\n",
      "ROUGE-2:\n",
      "  Precision: 0.0000\n",
      "  Recall: 0.0000\n",
      "  F1-Score: 0.0000\n",
      "ROUGE-L:\n",
      "  Precision: 0.5000\n",
      "  Recall: 0.5000\n",
      "  F1-Score: 0.5000\n"
     ]
    }
   ],
   "source": [
    "# Import the rouge_scorer module\n",
    "from rouge_score import rouge_scorer\n",
    "\n",
    "# Initialize the ROUGE scorer\n",
    "scorer = rouge_scorer.RougeScorer(['rouge1', 'rouge2', 'rougeL'], use_stemmer=True)\n",
    "\n",
    "# Calculate precision, recall, and F1-score for the generated summary and reference text\n",
    "scores = scorer.score(text1, generat_summary)\n",
    "\n",
    "# Extract precision, recall, and F1-score for ROUGE-1, ROUGE-2, and ROUGE-L\n",
    "precision_recall_fscore = {\n",
    "    \"ROUGE-1\": {\n",
    "        \"Precision\": scores['rouge1'].precision,\n",
    "        \"Recall\": scores['rouge1'].recall,\n",
    "        \"F1-Score\": scores['rouge1'].fmeasure\n",
    "    },\n",
    "    \"ROUGE-2\": {\n",
    "        \"Precision\": scores['rouge2'].precision,\n",
    "        \"Recall\": scores['rouge2'].recall,\n",
    "        \"F1-Score\": scores['rouge2'].fmeasure\n",
    "    },\n",
    "    \"ROUGE-L\": {\n",
    "        \"Precision\": scores['rougeL'].precision,\n",
    "        \"Recall\": scores['rougeL'].recall,\n",
    "        \"F1-Score\": scores['rougeL'].fmeasure\n",
    "    }\n",
    "}\n",
    "\n",
    "# Print the precision, recall, and F1-score\n",
    "for rouge_type, metrics in precision_recall_fscore.items():\n",
    "    print(f\"{rouge_type}:\")\n",
    "    for metric, value in metrics.items():\n",
    "        print(f\"  {metric}: {value:.4f}\")"
   ]
  },
  {
   "cell_type": "code",
   "execution_count": null,
   "id": "a5ee1d24",
   "metadata": {},
   "outputs": [],
   "source": [
    "import matplotlib.pyplot as plt\n",
    "import numpy as np\n",
    "\n",
    "# Data from your table\n",
    "metrics = ['ROUGE-1', 'ROUGE-2', 'ROUGE-L']\n",
    "models = ['Seq2seq + Coverage', 'T5-small']\n",
    "\n",
    "# F1 Scores\n",
    "seq2seq_f1 = [0.382, 0.162, 0.371]\n",
    "t5_f1 = [0.500, 0.000, 0.500]\n",
    "\n",
    "# Precision Scores\n",
    "seq2seq_prec = [0.363, 0.185, 0.353]\n",
    "t5_prec = [0.500, 0.000, 0.500]\n",
    "\n",
    "# Recall Scores\n",
    "seq2seq_rec = [0.393, 0.158, 0.370]\n",
    "t5_rec = [0.500, 0.000, 0.500]\n",
    "\n",
    "x = np.arange(len(metrics))  # the label locations\n",
    "width = 0.35  # the width of the bars\n",
    "\n",
    "# Create figure with 3 subplots\n",
    "fig, (ax1, ax2, ax3) = plt.subplots(3, 1, figsize=(10, 12))\n",
    "fig.suptitle('ROUGE Scores Comparison', fontsize=16)\n",
    "\n",
    "# F1 Score Plot\n",
    "rects1 = ax1.bar(x - width/2, seq2seq_f1, width, label='Seq2seq', color='#1f77b4')\n",
    "rects2 = ax1.bar(x + width/2, t5_f1, width, label='T5-small', color='#ff7f0e')\n",
    "ax1.set_ylabel('F1 Score')\n",
    "ax1.set_title('F1 Scores Comparison')\n",
    "ax1.set_xticks(x)\n",
    "ax1.set_xticklabels(metrics)\n",
    "ax1.legend()\n",
    "ax1.set_ylim(0, 0.6)\n",
    "ax1.bar_label(rects1, padding=3, fmt='%.3f')\n",
    "ax1.bar_label(rects2, padding=3, fmt='%.3f')\n",
    "\n",
    "# Precision Plot\n",
    "rects3 = ax2.bar(x - width/2, seq2seq_prec, width, label='Seq2seq', color='#1f77b4')\n",
    "rects4 = ax2.bar(x + width/2, t5_prec, width, label='T5-small', color='#ff7f0e')\n",
    "ax2.set_\n"
   ]
  },
  {
   "cell_type": "code",
   "execution_count": 8,
   "id": "8140d52d",
   "metadata": {},
   "outputs": [
    {
     "ename": "AttributeError",
     "evalue": "'Axes' object has no attribute 'set_'",
     "output_type": "error",
     "traceback": [
      "\u001b[1;31m---------------------------------------------------------------------------\u001b[0m",
      "\u001b[1;31mAttributeError\u001b[0m                            Traceback (most recent call last)",
      "Cell \u001b[1;32mIn[8], line 42\u001b[0m\n\u001b[0;32m     40\u001b[0m rects3 \u001b[38;5;241m=\u001b[39m ax2\u001b[38;5;241m.\u001b[39mbar(x \u001b[38;5;241m-\u001b[39m width\u001b[38;5;241m/\u001b[39m\u001b[38;5;241m2\u001b[39m, seq2seq_prec, width, label\u001b[38;5;241m=\u001b[39m\u001b[38;5;124m'\u001b[39m\u001b[38;5;124mSeq2seq\u001b[39m\u001b[38;5;124m'\u001b[39m, color\u001b[38;5;241m=\u001b[39m\u001b[38;5;124m'\u001b[39m\u001b[38;5;124m#1f77b4\u001b[39m\u001b[38;5;124m'\u001b[39m)\n\u001b[0;32m     41\u001b[0m rects4 \u001b[38;5;241m=\u001b[39m ax2\u001b[38;5;241m.\u001b[39mbar(x \u001b[38;5;241m+\u001b[39m width\u001b[38;5;241m/\u001b[39m\u001b[38;5;241m2\u001b[39m, t5_prec, width, label\u001b[38;5;241m=\u001b[39m\u001b[38;5;124m'\u001b[39m\u001b[38;5;124mT5-small\u001b[39m\u001b[38;5;124m'\u001b[39m, color\u001b[38;5;241m=\u001b[39m\u001b[38;5;124m'\u001b[39m\u001b[38;5;124m#ff7f0e\u001b[39m\u001b[38;5;124m'\u001b[39m)\n\u001b[1;32m---> 42\u001b[0m \u001b[43max2\u001b[49m\u001b[38;5;241;43m.\u001b[39;49m\u001b[43mset_\u001b[49m\n",
      "\u001b[1;31mAttributeError\u001b[0m: 'Axes' object has no attribute 'set_'"
     ]
    },
    {
     "data": {
      "image/png": "[encoded data removed]",
      "text/plain": [
       "<Figure size 1000x1200 with 3 Axes>"
      ]
     },
     "metadata": {},
     "output_type": "display_data"
    }
   ],
   "source": [
    "import matplotlib.pyplot as plt\n",
    "import numpy as np\n",
    "\n",
    "# Data from your table\n",
    "metrics = ['ROUGE-1', 'ROUGE-2', 'ROUGE-L']\n",
    "models = ['Seq2seq + Coverage', 'T5-small']\n",
    "\n",
    "# F1 Scores\n",
    "seq2seq_f1 = [0.382, 0.162, 0.371]\n",
    "t5_f1 = [0.500, 0.000, 0.500]\n",
    "\n",
    "# Precision Scores\n",
    "seq2seq_prec = [0.363, 0.185, 0.353]\n",
    "t5_prec = [0.500, 0.000, 0.500]\n",
    "\n",
    "# Recall Scores\n",
    "seq2seq_rec = [0.393, 0.158, 0.370]\n",
    "t5_rec = [0.500, 0.000, 0.500]\n",
    "\n",
    "x = np.arange(len(metrics))  # the label locations\n",
    "width = 0.35  # the width of the bars\n",
    "\n",
    "# Create figure with 3 subplots\n",
    "fig, (ax1, ax2, ax3) = plt.subplots(3, 1, figsize=(10, 12))\n",
    "fig.suptitle('ROUGE Scores Comparison', fontsize=16)\n",
    "\n",
    "# F1 Score Plot\n",
    "rects1 = ax1.bar(x - width/2, seq2seq_f1, width, label='Seq2seq', color='#1f77b4')\n",
    "rects2 = ax1.bar(x + width/2, t5_f1, width, label='T5-small', color='#ff7f0e')\n",
    "ax1.set_ylabel('F1 Score')\n",
    "ax1.set_title('F1 Scores Comparison')\n",
    "ax1.set_xticks(x)\n",
    "ax1.set_xticklabels(metrics)\n",
    "ax1.legend()\n",
    "ax1.set_ylim(0, 0.6)\n",
    "ax1.bar_label(rects1, padding=3, fmt='%.3f')\n",
    "ax1.bar_label(rects2, padding=3, fmt='%.3f')\n",
    "\n",
    "# Precision Plot\n",
    "rects3 = ax2.bar(x - width/2, seq2seq_prec, width, label='Seq2seq', color='#1f77b4')\n",
    "rects4 = ax2.bar(x + width/2, t5_prec, width, label='T5-small', color='#ff7f0e')\n",
    "ax2.set_"
   ]
  },
  {
   "cell_type": "code",
   "execution_count": null,
   "id": "bcef415c",
   "metadata": {},
   "outputs": [],
   "source": []
  }
 ],
 "metadata": {
  "kernelspec": {
   "display_name": "Python 3",
   "language": "python",
   "name": "python3"
  },
  "language_info": {
   "codemirror_mode": {
    "name": "ipython",
    "version": 3
   },
   "file_extension": ".py",
   "mimetype": "text/x-python",
   "name": "python",
   "nbconvert_exporter": "python",
   "pygments_lexer": "ipython3",
   "version": "3.12.5"
  }
 },
 "nbformat": 4,
 "nbformat_minor": 5
}
