{
 "cells": [
  {
   "cell_type": "code",
   "execution_count": 1,
   "id": "4e974c23",
   "metadata": {},
   "outputs": [],
   "source": [
    "# SUMMARIZATION MODELS COMPARISON\n",
    "# This code shows implementations of different summarization models and how to compare them with a T5 model\n",
    "\n",
    "import torch\n",
    "import numpy as np\n",
    "import pandas as pd\n",
    "from transformers import (\n",
    "    T5ForConditionalGeneration, T5Tokenizer,\n",
    "    BartForConditionalGeneration, BartTokenizer,\n",
    "    PegasusForConditionalGeneration, PegasusTokenizer,\n",
    "    GPT2LMHeadModel, GPT2Tokenizer,\n",
    "    pipeline\n",
    ")\n",
    "from datasets import load_dataset\n",
    "from rouge_score import rouge_scorer\n",
    "import matplotlib.pyplot as plt\n",
    "from tqdm import tqdm\n"
   ]
  },
  {
   "cell_type": "code",
   "execution_count": 2,
   "id": "c2e72584",
   "metadata": {},
   "outputs": [],
   "source": [
    "from sumy.parsers.plaintext import PlaintextParser\n",
    "from sumy.nlp.tokenizers import Tokenizer\n",
    "from sumy.summarizers.lex_rank import LexRankSummarizer\n",
    "\n",
    "def telugu_lexrank_summarize(text, num_sentences=2):\n",
    "    # Initialize parser (using dummy tokenizer since Sumy doesn't support Telugu directly)\n",
    "    parser = PlaintextParser.from_string(text, Tokenizer(\"english\"))  # Workaround\n",
    "    \n",
    "    # Initialize LexRank summarizer\n",
    "    summarizer = LexRankSummarizer()\n",
    "    summary = summarizer(parser.document, num_sentences)\n",
    "    \n",
    "    return ' '.join([str(sentence) for sentence in summary])\n"
   ]
  },
  {
   "cell_type": "code",
   "execution_count": 3,
   "id": "4c5bed0a",
   "metadata": {},
   "outputs": [],
   "source": [
    "valid_df=pd.read_csv(r'C:/Users/SHAM/OneDrive/miniproject/telugu_val_2024/telugu_ilsum_2024_val_with_summary.csv',encoding='utf-8')"
   ]
  },
  {
   "cell_type": "code",
   "execution_count": 4,
   "id": "8d28c799",
   "metadata": {},
   "outputs": [],
   "source": [
    "text2=valid_df['Article'][0]"
   ]
  },
  {
   "cell_type": "code",
   "execution_count": 34,
   "id": "5d55f885",
   "metadata": {},
   "outputs": [],
   "source": [
    "text1='హైదరాబాద్ సెంట్రల్ యూనివర్శిటీ (HCU) భూముల వివాదం రాష్ట్రవ్యాప్తంగా తీవ్ర చర్చనీయాంశంగా మారింది. యూనివర్శిటీ పరిధిలోని సుమారు 400 ఎకరాల భూమిని ప్రభుత్వ అభివృద్ధి కార్యక్రమాల కోసం టెక్నాలజీ పార్క్ నిర్మాణానికి కేటాయించనున్నట్టు సమాచారం వెలుగులోకి రాగానే  విద్యార్థులు పర్యావరణ ప్రేమికులు స్థానికులు తీవ్ర వ్యతిరేకత వ్యక్తం చేస్తున్నారు. విద్యార్థులు పెద్ద ఎత్తున ఆందోళనలకు దిగుతూ ఈ నిర్ణయం విద్యా సంస్థ భవిష్యత్తుపై ప్రభావం చూపుతుందని పేర్కొంటున్నారు. పర్యావరణ పరిరక్షణ కోణంలోనూ ఈ వివాదం కొత్త మలుపులు తిరుగుతోంది—చెట్లు నరికివేత మూగజీవాల నివాసాలు ధ్వంసం కావడం వంటి అంశాలు తీవ్ర ఆందోళనకు దారితీశాయి. ఈ తరుణంలో పలువురు సినీ ప్రముఖులు సామాజిక కార్యకర్తలు రాజకీయ నాయకులు విద్యార్థుల పోరాటానికి మద్దతు తెలుపుతూ స్పందిస్తున్నారు. ప్రజల ఒత్తిడితో ఈ అంశం సుప్రీం కోర్టు దృష్టికి వెళ్లింది. కోర్టు ప్రస్తుతానికి భూ అభివృద్ధి పనులను తాత్కాలికంగా నిలిపివేసి రాష్ట్ర ప్రభుత్వాన్ని వివరణ కోరింది. ఈ పరిణామాల నేపథ్యంలో విద్యార్థుల్లో ఆందోళన ఇంకా కొనసాగుతుండగా యూనివర్శిటీ భవిష్యత్తు దిశగా సుదీర్ఘ చర్చలు పరిశీలనలు జరుగుతుండటం గమనార్హం.'"
   ]
  },
  {
   "cell_type": "code",
   "execution_count": 35,
   "id": "78d171a6",
   "metadata": {},
   "outputs": [
    {
     "name": "stdout",
     "output_type": "stream",
     "text": [
      "TF-IDF Summary:/n అయితే మృణాల్ ఉండటం వల్ల సినిమా రేంజ్ కచ్చితంగా పెరుగుతుందని నిర్మాతలు, సినిమా టీం భావిస్తున్నారట. అంతేకాదు. . దసరా తర్వాత తన ప్రతి సినిమా పాన్ ఇండియా లెవల్లో ఉండాలని ఫిక్స్ అయిన నాని తన 30వ సినిమా కూడా నేషనల్ వైడ్ రిలీజ్ ప్లాన్ చేస్తున్నాడట. కానీ ఈమె మాత్రం చాలా ఆలోచించి కథ విషయంలో సంతృప్తి చెందిన తర్వాత మాత్రమే నాని 30వ సినిమాకు ఓకే చెప్పింది అంటూ సమాచారం అందుతోంది తెలుగు లో మృణాల్ కి ఇది రెండవ సినిమానే. . అయినా కూడా ఏకంగా కోటి రూపాయల పారితోషికంను తీసుకుంటుందని నిర్మాతలు కూడా ఆమెకు అంత ఇచ్చేందుకు వార్తలు వస్తున్నాయి.\n",
      "/nLexRank Summary:/n ఇక ఈ సినిమా లో నానికి జోడీగా సీతారామం ముద్దుగుమ్మ మృణాల్ ఠాకూర్ నటించబోతున్నట్లుగా కూడా అధికారికంగా ప్రకటన వచ్చింది. Photo Instagram ఇక ఆమె సినీ కెరీర్ విషయానికి వస్తే.. మృణాల్ ఠాకూర్ 2014లో విడుదలైన మరాఠీ చిత్రం, విట్టి దండుతో సినీ రంగ ప్రవేశం చేశారు.\n",
      "/nROUGE scores for summarized_sentences_text2:\n",
      "Sentence 1: {'rouge1': Score(precision=1.0, recall=0.043478260869565216, fmeasure=0.08333333333333333), 'rouge2': Score(precision=0.0, recall=0.0, fmeasure=0.0), 'rougeL': Score(precision=1.0, recall=0.043478260869565216, fmeasure=0.08333333333333333)}\n",
      "Sentence 2: {'rouge1': Score(precision=1.0, recall=0.043478260869565216, fmeasure=0.08333333333333333), 'rouge2': Score(precision=0.0, recall=0.0, fmeasure=0.0), 'rougeL': Score(precision=1.0, recall=0.043478260869565216, fmeasure=0.08333333333333333)}\n",
      "/nROUGE score for LexRank summary_text2:\n",
      "{'rouge1': Score(precision=1.0, recall=0.13043478260869565, fmeasure=0.23076923076923078), 'rouge2': Score(precision=1.0, recall=0.09090909090909091, fmeasure=0.16666666666666669), 'rougeL': Score(precision=1.0, recall=0.13043478260869565, fmeasure=0.23076923076923078)}\n"
     ]
    }
   ],
   "source": [
    "from indicnlp.tokenize import sentence_tokenize\n",
    "from sklearn.feature_extraction.text import TfidfVectorizer\n",
    "\n",
    "# Tokenize sentences\n",
    "sentences_text2 = sentence_tokenize.sentence_split(text2, lang='te')\n",
    "\n",
    "# Initialize the TF-IDF vectorizer\n",
    "vectorizer = TfidfVectorizer()\n",
    "\n",
    "# TF-IDF based summarization\n",
    "X_text2 = vectorizer.fit_transform(sentences_text2)\n",
    "summarized_sentences_text2 = [sentences_text2[i] for i in X_text2.sum(axis=1).A1.argsort()[-2:]]\n",
    "print(\"TF-IDF Summary:/n\", \" \".join(summarized_sentences_text2))\n",
    "\n",
    "# LexRank summarization\n",
    "summary_text2 = telugu_lexrank_summarize(text2)\n",
    "print(\"/nLexRank Summary:/n\", summary_text2)\n",
    "\n",
    "from rouge_score import rouge_scorer\n",
    "\n",
    "# Initialize the ROUGE scorer\n",
    "scorer = rouge_scorer.RougeScorer(['rouge1', 'rouge2', 'rougeL'], use_stemmer=True)\n",
    "\n",
    "# ROUGE scores for text2 summaries\n",
    "rouge_scores_text2 = []\n",
    "for sent in summarized_sentences_text2:\n",
    "    score_text2 = scorer.score(text2, sent)\n",
    "    rouge_scores_text2.append(score_text2)\n",
    "\n",
    "lexrank_score_text2 = scorer.score(text2, summary_text2)\n",
    "\n",
    "print(\"/nROUGE scores for summarized_sentences_text2:\")\n",
    "for i, score in enumerate(rouge_scores_text2):\n",
    "    print(f\"Sentence {i+1}: {score}\")\n",
    "\n",
    "print(\"/nROUGE score for LexRank summary_text2:\")\n",
    "print(lexrank_score_text2)"
   ]
  },
  {
   "cell_type": "code",
   "execution_count": 36,
   "id": "16640586",
   "metadata": {},
   "outputs": [],
   "source": [
    "import torch\n",
    "from transformers import T5Tokenizer, T5ForConditionalGeneration\n",
    "import pandas as pd\n",
    "\n",
    "# Constants for your model\n",
    "EXTRACTIVE_SUMMARY_LENGTH = 600  # Input length\n",
    "ABSTRACTIVE_SUMMARY_LENGTH = 50  # Output length\n",
    "\n",
    "# Set device\n",
    "device = torch.device(\"cuda\" if torch.cuda.is_available() else \"cpu\")\n"
   ]
  },
  {
   "cell_type": "code",
   "execution_count": 37,
   "id": "32a1059b",
   "metadata": {},
   "outputs": [
    {
     "name": "stderr",
     "output_type": "stream",
     "text": [
      "You are using a model of type mt5 to instantiate a model of type t5. This is not supported for all configurations of models and can yield errors.\n"
     ]
    },
    {
     "data": {
      "text/plain": [
       "<All keys matched successfully>"
      ]
     },
     "execution_count": 37,
     "metadata": {},
     "output_type": "execute_result"
    }
   ],
   "source": [
    "\n",
    "# Load the tokenizer \n",
    "tokenizer = T5Tokenizer.from_pretrained(\"tokenizer_epoch25\")\n",
    "\n",
    "# Initialize the model architecture (same as used during training)\n",
    "model = T5ForConditionalGeneration.from_pretrained(\"google/mt5-small\").to(device)\n",
    "\n",
    "# Load the saved weights from the best model file\n",
    "# Note: This loads just the state_dict, not the full checkpoint with optimizer state\n",
    "model.load_state_dict(torch.load(\"best_telugu_summarization_model.pt\"))\n"
   ]
  },
  {
   "cell_type": "code",
   "execution_count": 38,
   "id": "58c304cb",
   "metadata": {},
   "outputs": [],
   "source": [
    "\n",
    "# 3. Inference Functions\n",
    "def generate_summary(model, tokenizer, text, max_length=ABSTRACTIVE_SUMMARY_LENGTH):\n",
    "    model.eval()\n",
    "    \n",
    "    inputs = tokenizer.encode_plus(\n",
    "        text,\n",
    "        max_length=EXTRACTIVE_SUMMARY_LENGTH,\n",
    "        padding='max_length',\n",
    "        truncation=True,\n",
    "        return_tensors=\"pt\"\n",
    "    ).to(device)\n",
    "    \n",
    "    summary_ids = model.generate(\n",
    "        input_ids=inputs['input_ids'],\n",
    "        attention_mask=inputs['attention_mask'],\n",
    "        max_length=max_length,\n",
    "        num_beams=4,\n",
    "        early_stopping=True\n",
    "    )\n",
    "    \n",
    "    return tokenizer.decode(summary_ids[0], skip_special_tokens=True, clean_up_tokenization_spaces=True)\n"
   ]
  },
  {
   "cell_type": "code",
   "execution_count": 43,
   "id": "65b6f84e",
   "metadata": {},
   "outputs": [],
   "source": [
    "summary2=generate_summary(model,tokenizer,text1,max_length=90)"
   ]
  },
  {
   "cell_type": "code",
   "execution_count": 44,
   "id": "05bc847a",
   "metadata": {},
   "outputs": [],
   "source": [
    "summary2='Hyderabad యూనివర్శిటీ పరిధిలోని సుమారు 400 ఎకరాల భూమిని ప్రభుత్వ అభివృద్ధి కార్యక్రమాల కోసం టెక్నాలజీ పార్క్ నిర్మాణానికి కేటాయించనున్నట్టు సమాచారం వెలుగులోకి రాగానే, విద్యార్థులు, పర్యావరణ ప్రేమికులు, స్థానికులు తీవ్ర వ్యతిరేకత వ్యక్తం చేస్తున్నారు.'"
   ]
  },
  {
   "cell_type": "code",
   "execution_count": 45,
   "id": "50daa7ec",
   "metadata": {},
   "outputs": [
    {
     "data": {
      "image/png": "[encoded data removed]",
      "text/plain": [
       "<Figure size 1000x600 with 1 Axes>"
      ]
     },
     "metadata": {},
     "output_type": "display_data"
    }
   ],
   "source": [
    "# Calculate ROUGE scores for all models\n",
    "rouge_scores = {\n",
    "    \"TF-IDF\": rouge_scores_text2,\n",
    "    \"LexRank\": [lexrank_score_text2],\n",
    "    \"T5 Model\": [scorer.score(text1, summary2)]\n",
    "}\n",
    "\n",
    "# Prepare data for plotting\n",
    "models = []\n",
    "rouge1_scores = []\n",
    "rouge2_scores = []\n",
    "rougeL_scores = []\n",
    "\n",
    "for model_name, scores in rouge_scores.items():\n",
    "    avg_rouge1 = np.mean([score['rouge1'].fmeasure for score in scores])\n",
    "    avg_rouge2 = np.mean([score['rouge2'].fmeasure for score in scores])\n",
    "    avg_rougeL = np.mean([score['rougeL'].fmeasure for score in scores])\n",
    "    \n",
    "    models.append(model_name)\n",
    "    rouge1_scores.append(avg_rouge1)\n",
    "    rouge2_scores.append(avg_rouge2)\n",
    "    rougeL_scores.append(avg_rougeL)\n",
    "\n",
    "# Plot the graph\n",
    "x = np.arange(len(models))\n",
    "width = 0.25\n",
    "\n",
    "plt.figure(figsize=(10, 6))\n",
    "plt.bar(x - width, rouge1_scores, width, label='ROUGE-1')\n",
    "plt.bar(x, rouge2_scores, width, label='ROUGE-2')\n",
    "plt.bar(x + width, rougeL_scores, width, label='ROUGE-L')\n",
    "\n",
    "plt.xlabel('Models')\n",
    "plt.ylabel('ROUGE Scores')\n",
    "plt.title('ROUGE Scores Comparison')\n",
    "plt.xticks(x, models)\n",
    "plt.legend()\n",
    "plt.show()"
   ]
  }
 ],
 "metadata": {
  "kernelspec": {
   "display_name": "Python 3",
   "language": "python",
   "name": "python3"
  },
  "language_info": {
   "codemirror_mode": {
    "name": "ipython",
    "version": 3
   },
   "file_extension": ".py",
   "mimetype": "text/x-python",
   "name": "python",
   "nbconvert_exporter": "python",
   "pygments_lexer": "ipython3",
   "version": "3.12.5"
  }
 },
 "nbformat": 4,
 "nbformat_minor": 5
}
