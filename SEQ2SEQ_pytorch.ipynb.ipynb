{
 "cells": [
  {
   "cell_type": "code",
   "execution_count": 1,
   "id": "a7eed463",
   "metadata": {},
   "outputs": [],
   "source": [
    "import pandas as pd"
   ]
  },
  {
   "cell_type": "code",
   "execution_count": 2,
   "id": "091231ec",
   "metadata": {},
   "outputs": [],
   "source": [
    "train_df=pd.read_json('C:/Users/SHAM/OneDrive/Desktop/project/trained_data_extractive_summaries.json', lines=True)\n",
    "test_df=pd.read_json('C:/Users/SHAM/OneDrive/Desktop/project/tested_data_with_clean_extractive_summaries.json', lines=True)\n",
    "\n"
   ]
  },
  {
   "cell_type": "code",
   "execution_count": 3,
   "id": "68bf3b8f",
   "metadata": {},
   "outputs": [],
   "source": [
    "\n",
    "valid_df=pd.read_json('C:/Users/SHAM/OneDrive/Desktop/project/valid_data_with_clean_extractive_summaries.json', lines=True)\n"
   ]
  },
  {
   "cell_type": "code",
   "execution_count": 4,
   "id": "a9a0a646",
   "metadata": {},
   "outputs": [
    {
     "data": {
      "text/plain": [
       "(9117, 1953, 1302)"
      ]
     },
     "execution_count": 4,
     "metadata": {},
     "output_type": "execute_result"
    }
   ],
   "source": [
    "len(train_df), len(test_df), len(valid_df)"
   ]
  },
  {
   "cell_type": "code",
   "execution_count": 5,
   "id": "88a60d10",
   "metadata": {},
   "outputs": [],
   "source": [
    "train_df=train_df.head(100)\n",
    "test_df=test_df.head(100)\n",
    "valid_df=valid_df.head(100)"
   ]
  },
  {
   "cell_type": "code",
   "execution_count": 6,
   "id": "56de84a8",
   "metadata": {},
   "outputs": [
    {
     "data": {
      "text/plain": [
       "'టామ్ ప్రైస్ నిబంధనల జాతీయ భద్రత వ్యవహారాలను చూసే ప్రభుత్వ అధికారులు విధి నిర్వహణకు సంబంధించిన ప్రయాణాలకు సాధారణ వాణిజ్య విమానాలనే ఉపయోగించాలి ప్రైవేటు విమాన ప్రయాణాలకు పెట్టిన ఖర్చును చెల్లిస్తానన్నారు అమెరికా వెలుపల ప్రయాణాలకు ఉపయోగించిన సైనిక విమాన ఖర్చు వ్యయంలో ఉంది అధ్యక్షుడు డొనాల్డ్ ట్రంప్ బృందంలో ప్రైవేటు విమానాలను ఉపయోగించిన మరో ముగ్గురి విషయం ప్రస్తుతం పరిశీలనలో ఉంది ముగ్గురిలో అంతర్గత వ్యవహారాల మంత్రి ర్యాన్ జింకే ఆర్థిక శాఖ మంత్రి స్టీవెన్ నుచిన్ పర్యావరణ పరిరక్షణ ఏజెన్సీ చీఫ్ స్కాట్ ప్రూయిట్ ర్యాన్ జింకే ప్రైస్ ప్రైవేటు విమానాల ప్రయాణ ఖర్చుపై అధ్యక్షుడు ట్రంప్ ఇంతకుముందు అసంతృప్తి వ్యక్తంచేశారు ప్రైస్ రాజీనామాను అధ్యక్షుడు ఆమోదించినట్లు వైట్ హౌస్ ప్రకటనలో తెలిపింది ఆరోగ్య శాఖ ఉప సహాయ మంత్రిగా డాన్ జే రైట్ను తాత్కాలిక మంత్రిగా నియమించినట్లు చెప్పింది ట్రంప్ ఆశిస్తున్నట్లుగా ఒబామా కేర్ రద్దును ప్రైస్ సాధించి పెట్టి రాజీనామా వచ్చేది కాదేమోనని అభిప్రాయపడ్డారు'"
      ]
     },
     "execution_count": 6,
     "metadata": {},
     "output_type": "execute_result"
    }
   ],
   "source": [
    "train_df['extractive_summary'][0]"
   ]
  },
  {
   "cell_type": "code",
   "execution_count": 7,
   "id": "9d0152ee",
   "metadata": {},
   "outputs": [
    {
     "data": {
      "text/plain": [
       "106"
      ]
     },
     "execution_count": 7,
     "metadata": {},
     "output_type": "execute_result"
    }
   ],
   "source": [
    "len(train_df['extractive_summary'][0].split())"
   ]
  },
  {
   "cell_type": "code",
   "execution_count": 8,
   "id": "5365b022",
   "metadata": {},
   "outputs": [
    {
     "data": {
      "text/plain": [
       "'విధి నిర్వహణకు ఖరీదైన ప్రైవేటు విమానాలను ఉపయోగించినందుకు విమర్శలను ఎదుర్కొన్న అమెరికా ఆరోగ్యశాఖ మంత్రి టామ్ ప్రైస్ తన పదవికి రాజీనామా చేశారు.'"
      ]
     },
     "execution_count": 8,
     "metadata": {},
     "output_type": "execute_result"
    }
   ],
   "source": [
    "train_df['summary'][0]"
   ]
  },
  {
   "cell_type": "code",
   "execution_count": 9,
   "id": "7730f3ab",
   "metadata": {},
   "outputs": [],
   "source": [
    "from collections import Counter\n",
    "def tokenize(text):\n",
    "    return text.strip().split()\n",
    "\n",
    "def build_vocab(texts, min_freq=1, specials=[\"<pad>\", \"<unk>\", \"<sos>\", \"<eos>\"]):\n",
    "    counter = Counter()\n",
    "    for text in texts:\n",
    "        counter.update(tokenize(text))\n",
    "    tokens = [tok for tok, freq in counter.items() if freq >= min_freq]\n",
    "    itos = specials + sorted(tokens)\n",
    "    stoi = {tok: idx for idx, tok in enumerate(itos)}\n",
    "    return {\"stoi\": stoi, \"itos\": itos}\n"
   ]
  },
  {
   "cell_type": "code",
   "execution_count": 10,
   "id": "df28f4ce",
   "metadata": {},
   "outputs": [],
   "source": [
    "src_vocab_data={**build_vocab(train_df['extractive_summary']),**build_vocab(valid_df[\"extractive_summary\"]), **build_vocab(test_df[\"extractive_summary\"])}"
   ]
  },
  {
   "cell_type": "code",
   "execution_count": null,
   "id": "11b6cb9f",
   "metadata": {},
   "outputs": [],
   "source": [
    "\n",
    "tgt_vocab_data ={**build_vocab(train_df['summary']))\n",
    "src_vocab, src_itos = src_vocab_data[\"stoi\"], src_vocab_data[\"itos\"]\n",
    "tgt_vocab, tgt_itos = tgt_vocab_data[\"stoi\"], tgt_vocab_data[\"itos\"]\n"
   ]
  },
  {
   "cell_type": "code",
   "execution_count": 13,
   "id": "fa843b3c",
   "metadata": {},
   "outputs": [],
   "source": [
    "def numericalize(text, vocab):\n",
    "    tokens = tokenize(text)\n",
    "    return [vocab[\"<sos>\"]] + [vocab.get(tok, vocab[\"<unk>\"]) for tok in tokens] + [vocab[\"<eos>\"]]\n"
   ]
  },
  {
   "cell_type": "code",
   "execution_count": 14,
   "id": "d0d5cf4e",
   "metadata": {},
   "outputs": [],
   "source": [
    "\n",
    "def decode(indices, itos):\n",
    "    return \" \".join([itos[idx] for idx in indices if 0 <= idx < len(itos) and idx != src_vocab[\"<pad>\"]])\n",
    "\n",
    "#    return \" \".join([itos[idx] for idx in indices if idx != src_vocab[\"<pad>\"]])"
   ]
  },
  {
   "cell_type": "code",
   "execution_count": 15,
   "id": "97c63fc4",
   "metadata": {},
   "outputs": [],
   "source": [
    "import torch\n",
    "from torch.utils.data import Dataset, DataLoader\n",
    "class SummarizationDataset(Dataset):\n",
    "    def __init__(self, df):\n",
    "        self.data = df\n",
    "    def __len__(self):\n",
    "        return len(self.data)\n",
    "    def __getitem__(self, idx):\n",
    "        src = numericalize(self.data.iloc[idx]['extractive_summary'], src_vocab)\n",
    "        tgt = numericalize(self.data.iloc[idx]['summary'], tgt_vocab)\n",
    "        return torch.tensor(src), torch.tensor(tgt)\n"
   ]
  },
  {
   "cell_type": "code",
   "execution_count": 16,
   "id": "250b7473",
   "metadata": {},
   "outputs": [],
   "source": [
    "def collate_fn(batch):\n",
    "    src_batch, tgt_batch = zip(*batch)\n",
    "    src_batch = pad_sequence(src_batch, padding_value=src_vocab[\"<pad>\"])\n",
    "    tgt_batch = pad_sequence(tgt_batch, padding_value=tgt_vocab[\"<pad>\"])\n",
    "    return src_batch, tgt_batch\n"
   ]
  },
  {
   "cell_type": "code",
   "execution_count": 17,
   "id": "6d8457e6",
   "metadata": {},
   "outputs": [],
   "source": [
    "\n",
    "train_ds = SummarizationDataset(train_df)\n"
   ]
  },
  {
   "cell_type": "code",
   "execution_count": 18,
   "id": "a8c5dbb9",
   "metadata": {},
   "outputs": [
    {
     "data": {
      "text/html": [
       "<div>\n",
       "<style scoped>\n",
       "    .dataframe tbody tr th:only-of-type {\n",
       "        vertical-align: middle;\n",
       "    }\n",
       "\n",
       "    .dataframe tbody tr th {\n",
       "        vertical-align: top;\n",
       "    }\n",
       "\n",
       "    .dataframe thead th {\n",
       "        text-align: right;\n",
       "    }\n",
       "</style>\n",
       "<table border=\"1\" class=\"dataframe\">\n",
       "  <thead>\n",
       "    <tr style=\"text-align: right;\">\n",
       "      <th></th>\n",
       "      <th>id</th>\n",
       "      <th>url</th>\n",
       "      <th>title</th>\n",
       "      <th>summary</th>\n",
       "      <th>text</th>\n",
       "      <th>extractive_summary</th>\n",
       "    </tr>\n",
       "  </thead>\n",
       "  <tbody>\n",
       "    <tr>\n",
       "      <th>0</th>\n",
       "      <td>international-41451124</td>\n",
       "      <td>https://www.bbc.com/telugu/international-41451124</td>\n",
       "      <td>విమాన ప్రయాణాల వివాదం: మూల్యం చెల్లించుకున్నప్...</td>\n",
       "      <td>విధి నిర్వహణకు ఖరీదైన ప్రైవేటు విమానాలను ఉపయోగ...</td>\n",
       "      <td>[విమాన ప్రయాణాల వివాదం మూల్యం చెల్లించుకున్నప్...</td>\n",
       "      <td>టామ్ ప్రైస్ నిబంధనల జాతీయ భద్రత వ్యవహారాలను చూ...</td>\n",
       "    </tr>\n",
       "    <tr>\n",
       "      <th>1</th>\n",
       "      <td>india-57341250</td>\n",
       "      <td>https://www.bbc.com/telugu/india-57341250</td>\n",
       "      <td>ప్రపంచ సైకిల్ దినోత్సవం: తొలి సైకిల్ ఎప్పుడు ప...</td>\n",
       "      <td>ఏటా ఎన్ని సైకిళ్లు తయారవుతున్నాయో తెలుసా? అసలు...</td>\n",
       "      <td>[ప్రపంచ సైకిల్ దినోత్సవం తొలి సైకిల్ పరుగులు త...</td>\n",
       "      <td>ప్రపంచ సైకిల్ దినోత్సవం సందర్భంగా ఆసక్తికరమైన ...</td>\n",
       "    </tr>\n",
       "    <tr>\n",
       "      <th>2</th>\n",
       "      <td>india-53160266</td>\n",
       "      <td>https://www.bbc.com/telugu/india-53160266</td>\n",
       "      <td>కరోనావైరస్ వ్యాక్సిన్: భారత ‘వ్యాక్సిన్ కింగ్’...</td>\n",
       "      <td>కరోనా దెబ్బకు వ్యాపారాలన్నీ కుదేలై, దేశ ఆర్థిక...</td>\n",
       "      <td>[కరోనావైరస్ వ్యాక్సిన్ భారత వ్యాక్సిన్ కింగ్ ప...</td>\n",
       "      <td>కరోనావైరస్ వ్యాక్సిన్ భారత వ్యాక్సిన్ కింగ్ పూ...</td>\n",
       "    </tr>\n",
       "    <tr>\n",
       "      <th>3</th>\n",
       "      <td>india-44465377</td>\n",
       "      <td>https://www.bbc.com/telugu/india-44465377</td>\n",
       "      <td>'ముందు నీళ్లు అందించండి.. ఆ తర్వాత మరుగుదొడ్లు...</td>\n",
       "      <td>డుంబ్రిగుడ మండలంలోని కొర్రాయి కొత్తవలస గ్రామాన...</td>\n",
       "      <td>[నీళ్లు అందించండి.. ఆ మరుగుదొడ్లు వాడుతాం, మరు...</td>\n",
       "      <td>నీళ్లు అందించండి.. ఆ మరుగుదొడ్లు వాడుతాం మరుగు...</td>\n",
       "    </tr>\n",
       "    <tr>\n",
       "      <th>4</th>\n",
       "      <td>india-54982946</td>\n",
       "      <td>https://www.bbc.com/telugu/india-54982946</td>\n",
       "      <td>కోవిడ్-19: మౌత్‌వాష్‌తో 30 సెకన్లలోనే కరోనావైర...</td>\n",
       "      <td>కరోనావైరస్‌ను కేవలం 30 సెకన్లలోనే మౌత్‌వాష్‌లు...</td>\n",
       "      <td>[కోవిడ్19 మౌత్వాష్తో 30 సెకన్లలోనే కరోనావైరస్ ...</td>\n",
       "      <td>కోవిడ్19 మౌత్వాష్తో 30 సెకన్లలోనే కరోనావైరస్ హ...</td>\n",
       "    </tr>\n",
       "    <tr>\n",
       "      <th>...</th>\n",
       "      <td>...</td>\n",
       "      <td>...</td>\n",
       "      <td>...</td>\n",
       "      <td>...</td>\n",
       "      <td>...</td>\n",
       "      <td>...</td>\n",
       "    </tr>\n",
       "    <tr>\n",
       "      <th>95</th>\n",
       "      <td>india-50970539</td>\n",
       "      <td>https://www.bbc.com/telugu/india-50970539</td>\n",
       "      <td>CAA - NRC: ఆందోళనకారుల ఆస్తులను ప్రభుత్వం జప్త...</td>\n",
       "      <td>పౌరసత్వ సవరణ చట్టానికి వ్యతిరేకంగా ఇటీవల దేశవ్...</td>\n",
       "      <td>[CAA NRC ఆందోళనకారుల ఆస్తులను ప్రభుత్వం జప్తు ...</td>\n",
       "      <td>ప్రభుత్వ ఆస్తులకు నష్టం కలిగించిన వారిపై ప్రతీ...</td>\n",
       "    </tr>\n",
       "    <tr>\n",
       "      <th>96</th>\n",
       "      <td>india-52007915</td>\n",
       "      <td>https://www.bbc.com/telugu/india-52007915</td>\n",
       "      <td>కరోనావైరస్ గ్రామాలకు పాకితే భారత్ పరిస్థితి ఏంటి?</td>\n",
       "      <td>భారత్‌లోని చాలా ప్రాంతాలు లాక్‌డౌన్‌లోకి వెళ్ల...</td>\n",
       "      <td>[కరోనావైరస్ గ్రామాలకు పాకితే భారత్ పరిస్థితి ఏ...</td>\n",
       "      <td>2020 మార్చి 3 వరకూ భారత్ వ్యాప్తంగా ఐదు కరోనాక...</td>\n",
       "    </tr>\n",
       "    <tr>\n",
       "      <th>97</th>\n",
       "      <td>india-54340142</td>\n",
       "      <td>https://www.bbc.com/telugu/india-54340142</td>\n",
       "      <td>భారత రత్న జాబితాలో దక్షిణాది వారికి తగిన ప్రామ...</td>\n",
       "      <td>భారత ప్రభుత్వం వివిధ రంగాలలో విశిష్ట సేవలందించ...</td>\n",
       "      <td>[భారత రత్న జాబితాలో దక్షిణాది వారికి ప్రాముఖ్య...</td>\n",
       "      <td>భారత రత్న జాబితాలో దక్షిణాది వారికి ప్రాముఖ్యం...</td>\n",
       "    </tr>\n",
       "    <tr>\n",
       "      <th>98</th>\n",
       "      <td>international-49354317</td>\n",
       "      <td>https://www.bbc.com/telugu/international-49354317</td>\n",
       "      <td>భారత్‌తో యుద్ధానికి మేం సిద్ధం.. ఆర్ఎస్ఎస్ హిట...</td>\n",
       "      <td>భారత్‌తో యుద్ధానికి తమ దేశం పూర్తి సింసిద్ధంగా...</td>\n",
       "      <td>[భారత్తో యుద్ధానికి మేం సిద్ధం.. ఆర్ఎస్ఎస్ హిట...</td>\n",
       "      <td>భారత్తో యుద్ధానికి మేం సిద్ధం.. ఆర్ఎస్ఎస్ హిట్...</td>\n",
       "    </tr>\n",
       "    <tr>\n",
       "      <th>99</th>\n",
       "      <td>international-56794127</td>\n",
       "      <td>https://www.bbc.com/telugu/international-56794127</td>\n",
       "      <td>వాతావరణ మార్పులు: చేతులు కలిపిన చైనా, అమెరికా....</td>\n",
       "      <td>వాతావరణ మార్పుల వల్ల తలెత్తే సమస్యలను పరిష్కరి...</td>\n",
       "      <td>[వాతావరణ మార్పులు చేతులు కలిపిన చైనా అమెరికా.....</td>\n",
       "      <td>వాతావరణ మార్పులు చేతులు కలిపిన చైనా అమెరికా.. ...</td>\n",
       "    </tr>\n",
       "  </tbody>\n",
       "</table>\n",
       "<p>100 rows × 6 columns</p>\n",
       "</div>"
      ],
      "text/plain": [
       "                        id                                                url  \\\n",
       "0   international-41451124  https://www.bbc.com/telugu/international-41451124   \n",
       "1           india-57341250          https://www.bbc.com/telugu/india-57341250   \n",
       "2           india-53160266          https://www.bbc.com/telugu/india-53160266   \n",
       "3           india-44465377          https://www.bbc.com/telugu/india-44465377   \n",
       "4           india-54982946          https://www.bbc.com/telugu/india-54982946   \n",
       "..                     ...                                                ...   \n",
       "95          india-50970539          https://www.bbc.com/telugu/india-50970539   \n",
       "96          india-52007915          https://www.bbc.com/telugu/india-52007915   \n",
       "97          india-54340142          https://www.bbc.com/telugu/india-54340142   \n",
       "98  international-49354317  https://www.bbc.com/telugu/international-49354317   \n",
       "99  international-56794127  https://www.bbc.com/telugu/international-56794127   \n",
       "\n",
       "                                                title  \\\n",
       "0   విమాన ప్రయాణాల వివాదం: మూల్యం చెల్లించుకున్నప్...   \n",
       "1   ప్రపంచ సైకిల్ దినోత్సవం: తొలి సైకిల్ ఎప్పుడు ప...   \n",
       "2   కరోనావైరస్ వ్యాక్సిన్: భారత ‘వ్యాక్సిన్ కింగ్’...   \n",
       "3   'ముందు నీళ్లు అందించండి.. ఆ తర్వాత మరుగుదొడ్లు...   \n",
       "4   కోవిడ్-19: మౌత్‌వాష్‌తో 30 సెకన్లలోనే కరోనావైర...   \n",
       "..                                                ...   \n",
       "95  CAA - NRC: ఆందోళనకారుల ఆస్తులను ప్రభుత్వం జప్త...   \n",
       "96  కరోనావైరస్ గ్రామాలకు పాకితే భారత్ పరిస్థితి ఏంటి?   \n",
       "97  భారత రత్న జాబితాలో దక్షిణాది వారికి తగిన ప్రామ...   \n",
       "98  భారత్‌తో యుద్ధానికి మేం సిద్ధం.. ఆర్ఎస్ఎస్ హిట...   \n",
       "99  వాతావరణ మార్పులు: చేతులు కలిపిన చైనా, అమెరికా....   \n",
       "\n",
       "                                              summary  \\\n",
       "0   విధి నిర్వహణకు ఖరీదైన ప్రైవేటు విమానాలను ఉపయోగ...   \n",
       "1   ఏటా ఎన్ని సైకిళ్లు తయారవుతున్నాయో తెలుసా? అసలు...   \n",
       "2   కరోనా దెబ్బకు వ్యాపారాలన్నీ కుదేలై, దేశ ఆర్థిక...   \n",
       "3   డుంబ్రిగుడ మండలంలోని కొర్రాయి కొత్తవలస గ్రామాన...   \n",
       "4   కరోనావైరస్‌ను కేవలం 30 సెకన్లలోనే మౌత్‌వాష్‌లు...   \n",
       "..                                                ...   \n",
       "95  పౌరసత్వ సవరణ చట్టానికి వ్యతిరేకంగా ఇటీవల దేశవ్...   \n",
       "96  భారత్‌లోని చాలా ప్రాంతాలు లాక్‌డౌన్‌లోకి వెళ్ల...   \n",
       "97  భారత ప్రభుత్వం వివిధ రంగాలలో విశిష్ట సేవలందించ...   \n",
       "98  భారత్‌తో యుద్ధానికి తమ దేశం పూర్తి సింసిద్ధంగా...   \n",
       "99  వాతావరణ మార్పుల వల్ల తలెత్తే సమస్యలను పరిష్కరి...   \n",
       "\n",
       "                                                 text  \\\n",
       "0   [విమాన ప్రయాణాల వివాదం మూల్యం చెల్లించుకున్నప్...   \n",
       "1   [ప్రపంచ సైకిల్ దినోత్సవం తొలి సైకిల్ పరుగులు త...   \n",
       "2   [కరోనావైరస్ వ్యాక్సిన్ భారత వ్యాక్సిన్ కింగ్ ప...   \n",
       "3   [నీళ్లు అందించండి.. ఆ మరుగుదొడ్లు వాడుతాం, మరు...   \n",
       "4   [కోవిడ్19 మౌత్వాష్తో 30 సెకన్లలోనే కరోనావైరస్ ...   \n",
       "..                                                ...   \n",
       "95  [CAA NRC ఆందోళనకారుల ఆస్తులను ప్రభుత్వం జప్తు ...   \n",
       "96  [కరోనావైరస్ గ్రామాలకు పాకితే భారత్ పరిస్థితి ఏ...   \n",
       "97  [భారత రత్న జాబితాలో దక్షిణాది వారికి ప్రాముఖ్య...   \n",
       "98  [భారత్తో యుద్ధానికి మేం సిద్ధం.. ఆర్ఎస్ఎస్ హిట...   \n",
       "99  [వాతావరణ మార్పులు చేతులు కలిపిన చైనా అమెరికా.....   \n",
       "\n",
       "                                   extractive_summary  \n",
       "0   టామ్ ప్రైస్ నిబంధనల జాతీయ భద్రత వ్యవహారాలను చూ...  \n",
       "1   ప్రపంచ సైకిల్ దినోత్సవం సందర్భంగా ఆసక్తికరమైన ...  \n",
       "2   కరోనావైరస్ వ్యాక్సిన్ భారత వ్యాక్సిన్ కింగ్ పూ...  \n",
       "3   నీళ్లు అందించండి.. ఆ మరుగుదొడ్లు వాడుతాం మరుగు...  \n",
       "4   కోవిడ్19 మౌత్వాష్తో 30 సెకన్లలోనే కరోనావైరస్ హ...  \n",
       "..                                                ...  \n",
       "95  ప్రభుత్వ ఆస్తులకు నష్టం కలిగించిన వారిపై ప్రతీ...  \n",
       "96  2020 మార్చి 3 వరకూ భారత్ వ్యాప్తంగా ఐదు కరోనాక...  \n",
       "97  భారత రత్న జాబితాలో దక్షిణాది వారికి ప్రాముఖ్యం...  \n",
       "98  భారత్తో యుద్ధానికి మేం సిద్ధం.. ఆర్ఎస్ఎస్ హిట్...  \n",
       "99  వాతావరణ మార్పులు చేతులు కలిపిన చైనా అమెరికా.. ...  \n",
       "\n",
       "[100 rows x 6 columns]"
      ]
     },
     "execution_count": 18,
     "metadata": {},
     "output_type": "execute_result"
    }
   ],
   "source": [
    "train_ds.data"
   ]
  },
  {
   "cell_type": "code",
   "execution_count": 17,
   "id": "2fb6303c",
   "metadata": {},
   "outputs": [],
   "source": [
    "src_vocab_data1 = build_vocab(valid_df[\"extractive_summary\"])\n",
    "tgt_vocab_data1 = build_vocab(valid_df[\"summary\"])\n",
    "src_vocab1, src_itos1= src_vocab_data1[\"stoi\"], src_vocab_data1[\"itos\"]\n",
    "tgt_vocab1, tgt_itos1 = tgt_vocab_data1[\"stoi\"], tgt_vocab_data1[\"itos\"]\n"
   ]
  },
  {
   "cell_type": "code",
   "execution_count": 19,
   "id": "bc284523",
   "metadata": {},
   "outputs": [],
   "source": [
    "\n",
    "val_ds = SummarizationDataset(valid_df)\n"
   ]
  },
  {
   "cell_type": "code",
   "execution_count": 20,
   "id": "dacc66f2",
   "metadata": {},
   "outputs": [],
   "source": [
    "\n",
    "train_dl = DataLoader(train_ds, batch_size=32, shuffle=True, collate_fn=collate_fn)\n"
   ]
  },
  {
   "cell_type": "code",
   "execution_count": 21,
   "id": "1c300d4a",
   "metadata": {},
   "outputs": [],
   "source": [
    "\n",
    "val_dl = DataLoader(val_ds, batch_size=32, collate_fn=collate_fn)\n"
   ]
  },
  {
   "cell_type": "code",
   "execution_count": 22,
   "id": "de3f5123",
   "metadata": {},
   "outputs": [],
   "source": [
    "import torch.nn as nn\n",
    "import torch.nn.functional as F"
   ]
  },
  {
   "cell_type": "code",
   "execution_count": 23,
   "id": "045b42f4",
   "metadata": {},
   "outputs": [],
   "source": [
    "class Encoder(nn.Module):\n",
    "    def __init__(self, input_dim, emb_dim, hid_dim):\n",
    "        super().__init__()\n",
    "        self.embedding = nn.Embedding(input_dim, emb_dim, padding_idx=src_vocab[\"<pad>\"])\n",
    "        self.rnn = nn.GRU(emb_dim, hid_dim)\n",
    "    def forward(self, src):\n",
    "        embedded = self.embedding(src)\n",
    "        outputs, hidden = self.rnn(embedded)\n",
    "        return outputs, hidden\n"
   ]
  },
  {
   "cell_type": "code",
   "execution_count": 24,
   "id": "9f7146e7",
   "metadata": {},
   "outputs": [],
   "source": [
    "\n",
    "class Attention(nn.Module):\n",
    "    def __init__(self, hid_dim):\n",
    "        super().__init__()\n",
    "        self.attn = nn.Linear(hid_dim * 2, hid_dim)\n",
    "        self.v = nn.Parameter(torch.rand(hid_dim))\n",
    "    def forward(self, hidden, encoder_outputs):\n",
    "        src_len = encoder_outputs.shape[0]\n",
    "        hidden = hidden[-1].unsqueeze(1).repeat(1, src_len, 1)\n",
    "        energy = torch.tanh(self.attn(torch.cat((hidden, encoder_outputs.permute(1, 0, 2)), dim=2)))\n",
    "        energy = energy.permute(0, 2, 1)\n",
    "        v = self.v.repeat(encoder_outputs.size(1), 1).unsqueeze(1)\n",
    "        attention = torch.bmm(v, energy).squeeze(1)\n",
    "        return torch.softmax(attention, dim=1)\n"
   ]
  },
  {
   "cell_type": "code",
   "execution_count": 25,
   "id": "8a7803e9",
   "metadata": {},
   "outputs": [],
   "source": [
    "\n",
    "class Decoder(nn.Module):\n",
    "    def __init__(self, output_dim, emb_dim, hid_dim, attention):\n",
    "        super().__init__()\n",
    "        self.output_dim = output_dim\n",
    "        self.embedding = nn.Embedding(output_dim, emb_dim, padding_idx=tgt_vocab[\"<pad>\"])\n",
    "        self.rnn = nn.GRU(hid_dim + emb_dim, hid_dim)\n",
    "        self.fc = nn.Linear(hid_dim * 2 + emb_dim, output_dim)\n",
    "        self.attention = attention\n",
    "\n",
    "    def forward(self, input, hidden, encoder_outputs):\n",
    "        input = input.unsqueeze(0)\n",
    "        embedded = self.embedding(input)\n",
    "        a = self.attention(hidden, encoder_outputs).unsqueeze(1)\n",
    "        weighted = torch.bmm(a, encoder_outputs.permute(1, 0, 2))\n",
    "        rnn_input = torch.cat((embedded, weighted.permute(1, 0, 2)), dim=2)\n",
    "        output, hidden = self.rnn(rnn_input, hidden)\n",
    "        output = output.squeeze(0)\n",
    "        embedded = embedded.squeeze(0)\n",
    "        weighted = weighted.squeeze(1)\n",
    "        prediction = self.fc(torch.cat((output, weighted, embedded), dim=1))\n",
    "        return prediction, hidden\n"
   ]
  },
  {
   "cell_type": "code",
   "execution_count": 26,
   "id": "4a7f3cc4",
   "metadata": {},
   "outputs": [],
   "source": [
    "\n",
    "class Seq2Seq(nn.Module):\n",
    "    def __init__(self, encoder, decoder):\n",
    "        super().__init__()\n",
    "        self.encoder = encoder\n",
    "        self.decoder = decoder\n",
    "\n",
    "    def forward(self, src, tgt, teacher_forcing_ratio=0.5):\n",
    "        tgt_len, batch_size = tgt.shape\n",
    "        output_dim = self.decoder.output_dim\n",
    "        outputs = torch.zeros(tgt_len, batch_size, output_dim).to(src.device)\n",
    "        encoder_outputs, hidden = self.encoder(src)\n",
    "        input = tgt[0,:]\n",
    "        for t in range(1, tgt_len):\n",
    "            output, hidden = self.decoder(input, hidden, encoder_outputs)\n",
    "            outputs[t] = output\n",
    "            teacher_force = torch.rand(1).item() < teacher_forcing_ratio\n",
    "            top1 = output.argmax(1)\n",
    "            input = tgt[t] if teacher_force else top1\n",
    "        return outputs\n"
   ]
  },
  {
   "cell_type": "code",
   "execution_count": null,
   "id": "0a39c25d",
   "metadata": {},
   "outputs": [],
   "source": []
  },
  {
   "cell_type": "code",
   "execution_count": 27,
   "id": "7d0f1d66",
   "metadata": {},
   "outputs": [],
   "source": [
    "\n",
    "# ------------------ Training ------------------\n",
    "INPUT_DIM = len(src_vocab)\n",
    "OUTPUT_DIM = len(tgt_vocab)\n",
    "HID_DIM = 256\n",
    "EMB_DIM = 256\n"
   ]
  },
  {
   "cell_type": "code",
   "execution_count": 28,
   "id": "f4d8333c",
   "metadata": {},
   "outputs": [],
   "source": [
    "\n",
    "device = torch.device(\"cuda\" if torch.cuda.is_available() else \"cpu\")\n"
   ]
  },
  {
   "cell_type": "code",
   "execution_count": 29,
   "id": "bf112d48",
   "metadata": {},
   "outputs": [],
   "source": [
    "\n",
    "attn = Attention(HID_DIM)\n"
   ]
  },
  {
   "cell_type": "code",
   "execution_count": 30,
   "id": "e436582e",
   "metadata": {},
   "outputs": [],
   "source": [
    "\n",
    "enc = Encoder(INPUT_DIM, EMB_DIM, HID_DIM)\n",
    "dec = Decoder(OUTPUT_DIM, EMB_DIM, HID_DIM, attn)\n",
    "model = Seq2Seq(enc, dec).to(device)\n"
   ]
  },
  {
   "cell_type": "code",
   "execution_count": 31,
   "id": "94200374",
   "metadata": {},
   "outputs": [
    {
     "data": {
      "text/plain": [
       "<bound method Module.eval of Seq2Seq(\n",
       "  (encoder): Encoder(\n",
       "    (embedding): Embedding(12019, 256, padding_idx=0)\n",
       "    (rnn): GRU(256, 256)\n",
       "  )\n",
       "  (decoder): Decoder(\n",
       "    (embedding): Embedding(1633, 256, padding_idx=0)\n",
       "    (rnn): GRU(512, 256)\n",
       "    (fc): Linear(in_features=768, out_features=1633, bias=True)\n",
       "    (attention): Attention(\n",
       "      (attn): Linear(in_features=512, out_features=256, bias=True)\n",
       "    )\n",
       "  )\n",
       ")>"
      ]
     },
     "execution_count": 31,
     "metadata": {},
     "output_type": "execute_result"
    }
   ],
   "source": [
    "model.eval"
   ]
  },
  {
   "cell_type": "code",
   "execution_count": 33,
   "id": "d4719a81",
   "metadata": {},
   "outputs": [],
   "source": [
    "from torch import nn, optim\n",
    "optimizer = optim.Adam(model.parameters())\n",
    "criterion = nn.CrossEntropyLoss(ignore_index=tgt_vocab[\"<pad>\"])"
   ]
  },
  {
   "cell_type": "code",
   "execution_count": 34,
   "id": "f9600d43",
   "metadata": {},
   "outputs": [],
   "source": [
    "from torch.nn.utils.rnn import pad_sequence\n"
   ]
  },
  {
   "cell_type": "code",
   "execution_count": 35,
   "id": "a0fe592c",
   "metadata": {},
   "outputs": [
    {
     "name": "stdout",
     "output_type": "stream",
     "text": [
      "Epoch 1, Loss: 5.9998\n",
      "Epoch 2, Loss: 3.2000\n",
      "Epoch 3, Loss: 2.7993\n",
      "Epoch 4, Loss: 2.5425\n",
      "Epoch 5, Loss: 2.4279\n",
      "Epoch 6, Loss: 2.5018\n",
      "Epoch 7, Loss: 2.5349\n",
      "Epoch 8, Loss: 2.3289\n",
      "Epoch 9, Loss: 2.4071\n",
      "Epoch 10, Loss: 2.3840\n"
     ]
    }
   ],
   "source": [
    "\n",
    "def train(model, iterator):\n",
    "    model.train()\n",
    "    total_loss = 0\n",
    "    for src, tgt in iterator:\n",
    "        src, tgt = src.to(device), tgt.to(device)\n",
    "        optimizer.zero_grad()\n",
    "        output = model(src, tgt)\n",
    "        output = output[1:].reshape(-1, output.shape[-1])\n",
    "        tgt = tgt[1:].reshape(-1)\n",
    "        loss = criterion(output, tgt)\n",
    "        loss.backward()\n",
    "        optimizer.step()\n",
    "        total_loss += loss.item()\n",
    "    return total_loss / len(iterator)\n",
    "\n",
    "for epoch in range(10):\n",
    "    loss = train(model, train_dl)\n",
    "    print(f\"Epoch {epoch+1}, Loss: {loss:.4f}\")\n"
   ]
  },
  {
   "cell_type": "code",
   "execution_count": 36,
   "id": "f42d4df2",
   "metadata": {},
   "outputs": [
    {
     "name": "stdout",
     "output_type": "stream",
     "text": [
      "Validation Loss: 3.0559\n",
      "Validation Loss: 3.0559\n",
      "Validation Loss: 3.0559\n",
      "Validation Loss: 3.0559\n",
      "Validation Loss: 3.0559\n",
      "Validation Loss: 3.0559\n",
      "Validation Loss: 3.0559\n",
      "Validation Loss: 3.0559\n",
      "Validation Loss: 3.0559\n",
      "Validation Loss: 3.0559\n"
     ]
    }
   ],
   "source": [
    "def evaluate(model, iterator):\n",
    "    model.eval()\n",
    "    total_loss = 0\n",
    "    with torch.no_grad():\n",
    "        for src, tgt in iterator:\n",
    "            src, tgt = src.to(device), tgt.to(device)\n",
    "            output = model(src, tgt, teacher_forcing_ratio=0)\n",
    "            output = output[1:].reshape(-1, output.shape[-1])\n",
    "            tgt = tgt[1:].reshape(-1)\n",
    "            loss = criterion(output, tgt)\n",
    "            total_loss += loss.item()\n",
    "    return total_loss / len(iterator)\n",
    "\n",
    "# Example usage:\n",
    "for epoch in range(10):\n",
    "    val_loss = evaluate(model, val_dl)\n",
    "    print(f\"Validation Loss: {val_loss:.4f}\")"
   ]
  },
  {
   "cell_type": "code",
   "execution_count": 37,
   "id": "5125d0cf",
   "metadata": {},
   "outputs": [],
   "source": [
    "\n",
    "# ------------------ Save ------------------\n",
    "torch.save(model.state_dict(), \"telugu_seq2seq2.pt\")\n"
   ]
  },
  {
   "cell_type": "code",
   "execution_count": 43,
   "id": "be6de150",
   "metadata": {},
   "outputs": [],
   "source": [
    "\n",
    "# ------------------ Inference ------------------\n",
    "def summarize(text, max_len=64):\n",
    "    #model.eval()\n",
    "    model.load_state_dict(torch.load(\"telugu_seq2seq2.pt\"))\n",
    "    model.to(device)\n",
    "    model.eval()\n",
    "    tokens = numericalize(text, src_vocab)\n",
    "    src_tensor = torch.tensor(tokens).unsqueeze(1).to(device)\n",
    "    with torch.no_grad():\n",
    "        enc_out, hidden = model.encoder(src_tensor)\n",
    "    input_tok = torch.tensor([tgt_vocab[\"<sos>\"]]).to(device)\n",
    "    result = []\n",
    "    for _ in range(max_len):\n",
    "        output, hidden = model.decoder(input_tok, hidden, enc_out)\n",
    "        top1 = output.argmax(1).item()\n",
    "        if top1 == tgt_vocab[\"<eos>\"]:\n",
    "            break\n",
    "        result.append(top1)\n",
    "        input_tok = torch.tensor([top1]).to(device)\n",
    "    return decode(result, tgt_itos)\n"
   ]
  },
  {
   "cell_type": "code",
   "execution_count": 39,
   "id": "7e28b62f",
   "metadata": {},
   "outputs": [
    {
     "data": {
      "text/html": [
       "<div>\n",
       "<style scoped>\n",
       "    .dataframe tbody tr th:only-of-type {\n",
       "        vertical-align: middle;\n",
       "    }\n",
       "\n",
       "    .dataframe tbody tr th {\n",
       "        vertical-align: top;\n",
       "    }\n",
       "\n",
       "    .dataframe thead th {\n",
       "        text-align: right;\n",
       "    }\n",
       "</style>\n",
       "<table border=\"1\" class=\"dataframe\">\n",
       "  <thead>\n",
       "    <tr style=\"text-align: right;\">\n",
       "      <th></th>\n",
       "      <th>id</th>\n",
       "      <th>url</th>\n",
       "      <th>title</th>\n",
       "      <th>summary</th>\n",
       "      <th>text</th>\n",
       "      <th>words</th>\n",
       "      <th>extractive_summary</th>\n",
       "      <th>cleaned_summary</th>\n",
       "    </tr>\n",
       "  </thead>\n",
       "  <tbody>\n",
       "    <tr>\n",
       "      <th>0</th>\n",
       "      <td>india-43961357</td>\n",
       "      <td>https://www.bbc.com/telugu/india-43961357</td>\n",
       "      <td>మే డే: కార్మికులు ఏ దేశాల్లో ఎక్కువ సేపు పనిచే...</td>\n",
       "      <td>కార్మికులు ధనిక దేశాల్లో ఎక్కువ సమయం పనిచేస్తు...</td>\n",
       "      <td>[మే డే కార్మికులు ఏ దేశాల్లో ఎక్కువ సేపు పనిచే...</td>\n",
       "      <td>[మే, డే, కార్మికులు, ఏ, దేశాల్లో, ఎక్కువ, సేపు...</td>\n",
       "      <td>వారానికి గరిష్ఠంగా 48 లేదా అంతకంటే తక్కువ పనిగ...</td>\n",
       "      <td>వారానికి గరిష్ఠంగా 48 లేదా అంతకంటే పనిగంటలు ఉం...</td>\n",
       "    </tr>\n",
       "    <tr>\n",
       "      <th>1</th>\n",
       "      <td>international-49974060</td>\n",
       "      <td>https://www.bbc.com/telugu/international-49974060</td>\n",
       "      <td>నోబెల్ ప్రైజ్: విశ్వ రహస్యాల శోధనకు, కొత్త గ్ర...</td>\n",
       "      <td>విశ్వానికి సంబంధించి సరికొత్త అంశాలను కనుగొన్న...</td>\n",
       "      <td>[నోబెల్ ప్రైజ్ విశ్వ రహస్యాల శోధనకు కొత్త గ్రహ...</td>\n",
       "      <td>[నోబెల్, ప్రైజ్, విశ్వ, రహస్యాల, శోధనకు, కొత్త...</td>\n",
       "      <td>నోబెల్ ప్రైజ్ విశ్వ రహస్యాల శోధనకు కొత్త గ్రహా...</td>\n",
       "      <td>నోబెల్ ప్రైజ్ విశ్వ రహస్యాల శోధనకు కొత్త గ్రహా...</td>\n",
       "    </tr>\n",
       "    <tr>\n",
       "      <th>2</th>\n",
       "      <td>india-47940194</td>\n",
       "      <td>https://www.bbc.com/telugu/india-47940194</td>\n",
       "      <td>'ది మోస్ట్ బ్యూటిఫుల్ ఫేస్ ఆన్ ది ఇండియన్ స్క్...</td>\n",
       "      <td>తెలుగు సినీరంగాన్ని కొన్నేళ్ల పాటు ఏలిన కథానాయ...</td>\n",
       "      <td>[ది మోస్ట్ బ్యూటిఫుల్ ఫేస్ ఆన్ ది ఇండియన్ స్క్...</td>\n",
       "      <td>[ది, మోస్ట్, బ్యూటిఫుల్, ఫేస్, ఆన్, ది, ఇండియన...</td>\n",
       "      <td>ది మోస్ట్ బ్యూటిఫుల్ ఫేస్ ఆన్ ది ఇండియన్ స్క్ర...</td>\n",
       "      <td>ది మోస్ట్ బ్యూటిఫుల్ ఫేస్ ఆన్ ది ఇండియన్ స్క్ర...</td>\n",
       "    </tr>\n",
       "    <tr>\n",
       "      <th>3</th>\n",
       "      <td>india-45788302</td>\n",
       "      <td>https://www.bbc.com/telugu/india-45788302</td>\n",
       "      <td>గండికోట జలాశయం: ''మా ఇళ్లలోకి నీరొస్తోంది.. పర...</td>\n",
       "      <td>శ్రీశైలం జలాశయం నుంచి కడప జిల్లాలోని గండికోట జ...</td>\n",
       "      <td>[గండికోట జలాశయం మా ఇళ్లలోకి నీరొస్తోంది.. పరిహ...</td>\n",
       "      <td>[గండికోట, జలాశయం, మా, ఇళ్లలోకి, నీరొస్తోంది, ....</td>\n",
       "      <td>గండికోట జలాశయం మా ఇళ్లలోకి నీరొస్తోంది.. పరిహా...</td>\n",
       "      <td>గండికోట జలాశయం మా ఇళ్లలోకి నీరొస్తోంది.. పరిహా...</td>\n",
       "    </tr>\n",
       "    <tr>\n",
       "      <th>4</th>\n",
       "      <td>india-48162157</td>\n",
       "      <td>https://www.bbc.com/telugu/india-48162157</td>\n",
       "      <td>అరవింద్ కేజ్రీవాల్‌ను చెంపదెబ్బ కొట్టిన సురేశ్...</td>\n",
       "      <td>దిల్లీ ముఖ్యమంత్రి అరవింద్ కేజ్రీవాల్‌ ఎన్నికల...</td>\n",
       "      <td>[అరవింద్ కేజ్రీవాల్ను చెంపదెబ్బ కొట్టిన సురేశ్...</td>\n",
       "      <td>[అరవింద్, కేజ్రీవాల్ను, చెంపదెబ్బ, కొట్టిన, సు...</td>\n",
       "      <td>పోస్ట్ of Twitter ముగిసింది 1 న్యూ దిల్లీ లోక్...</td>\n",
       "      <td>పోస్ట్ of Twitter ముగిసింది 1 న్యూ దిల్లీ లోక్...</td>\n",
       "    </tr>\n",
       "    <tr>\n",
       "      <th>...</th>\n",
       "      <td>...</td>\n",
       "      <td>...</td>\n",
       "      <td>...</td>\n",
       "      <td>...</td>\n",
       "      <td>...</td>\n",
       "      <td>...</td>\n",
       "      <td>...</td>\n",
       "      <td>...</td>\n",
       "    </tr>\n",
       "    <tr>\n",
       "      <th>95</th>\n",
       "      <td>international-44493024</td>\n",
       "      <td>https://www.bbc.com/telugu/international-44493024</td>\n",
       "      <td>దివ్య సూర్యదేవర: ఒకప్పుడు డబ్బుల్లేక ఇబ్బందులు...</td>\n",
       "      <td>బీకాం, ఎంకాం చదివితే ఏమవ్వొచ్చు? మన కష్టానికి ...</td>\n",
       "      <td>[దివ్య సూర్యదేవర ఒకప్పుడు డబ్బుల్లేక ఇబ్బందులు...</td>\n",
       "      <td>[దివ్య, సూర్యదేవర, ఒకప్పుడు, డబ్బుల్లేక, ఇబ్బం...</td>\n",
       "      <td>దివ్య సూర్యదేవర ఒకప్పుడు డబ్బుల్లేక ఇబ్బందులు ...</td>\n",
       "      <td>దివ్య సూర్యదేవర ఒకప్పుడు డబ్బుల్లేక ఇబ్బందులు ...</td>\n",
       "    </tr>\n",
       "    <tr>\n",
       "      <th>96</th>\n",
       "      <td>international-43469447</td>\n",
       "      <td>https://www.bbc.com/telugu/international-43469447</td>\n",
       "      <td>శత్రువులపై రక్తసిక్త పోరుకైనా చైనా రెడీ: షీ జి...</td>\n",
       "      <td>తమ దేశానికి చెందిన ఒక అంగుళం భూభాగాన్ని కూడా త...</td>\n",
       "      <td>[శత్రువులపై రక్తసిక్త పోరుకైనా చైనా రెడీ షీ జి...</td>\n",
       "      <td>[శత్రువులపై, రక్తసిక్త, పోరుకైనా, చైనా, రెడీ, ...</td>\n",
       "      <td>పార్లమెంట్లో ముగింపు ప్రసంగం చేస్తూ చైనాను విభ...</td>\n",
       "      <td>పార్లమెంట్లో ముగింపు ప్రసంగం చేస్తూ చైనాను విభ...</td>\n",
       "    </tr>\n",
       "    <tr>\n",
       "      <th>97</th>\n",
       "      <td>international-52698488</td>\n",
       "      <td>https://www.bbc.com/telugu/international-52698488</td>\n",
       "      <td>కరోనావైరస్ ఫుట్‌బాల్: జర్మనీలో ప్రీమియ‌ర్ లీగ్...</td>\n",
       "      <td>జ‌ర్మ‌నీ ఫుట్‌బాల్ ప్రీమియ‌ర్ లీగ్ బుండెస్‌లీగ...</td>\n",
       "      <td>[కరోనావైరస్ ఫుట్బాల్ జర్మనీలో ప్రీమియర్ లీగ్ ఎ...</td>\n",
       "      <td>[కరోనావైరస్, ఫుట్బాల్, జర్మనీలో, ప్రీమియర్, లీ...</td>\n",
       "      <td>గోల్ కొట్టిన ప్రతిసారీ క్రీడాకారులు హత్తుకొని ...</td>\n",
       "      <td>గోల్ కొట్టిన ప్రతిసారీ క్రీడాకారులు హత్తుకొని ...</td>\n",
       "    </tr>\n",
       "    <tr>\n",
       "      <th>98</th>\n",
       "      <td>international-54313643</td>\n",
       "      <td>https://www.bbc.com/telugu/international-54313643</td>\n",
       "      <td>అర్మేనియా - అజర్బైజాన్‌ల మధ్య ‘సరిహద్దు యుద్ధం...</td>\n",
       "      <td>వివాదాస్పద నాగోర్నో-కరబఖ్ సరిహద్దు వద్ద అర్మేన...</td>\n",
       "      <td>[అర్మేనియా  అజర్బైజాన్ల మధ్య సరిహద్దు యుద్ధం  ...</td>\n",
       "      <td>[అర్మేనియా, అజర్బైజాన్ల, మధ్య, సరిహద్దు, యుద్ధ...</td>\n",
       "      <td>దేశంలో సైనిక శాసనం మార్షలా లావ్ అమలులోకి తెచ్చ...</td>\n",
       "      <td>దేశంలో సైనిక శాసనం మార్షలా లావ్ అమలులోకి తెచ్చ...</td>\n",
       "    </tr>\n",
       "    <tr>\n",
       "      <th>99</th>\n",
       "      <td>international-49868764</td>\n",
       "      <td>https://www.bbc.com/telugu/international-49868764</td>\n",
       "      <td>యెమెన్ యుద్ధం: 'వేలాది సౌదీ సైనికులను పట్టుకున...</td>\n",
       "      <td>సౌదీ అరేబియా సైనికులను భారీ సంఖ్యలో పట్టుకున్న...</td>\n",
       "      <td>[యెమెన్ యుద్ధం వేలాది సౌదీ సైనికులను పట్టుకున్...</td>\n",
       "      <td>[యెమెన్, యుద్ధం, వేలాది, సౌదీ, సైనికులను, పట్ట...</td>\n",
       "      <td>యెమెన్ యుద్ధం వేలాది సౌదీ సైనికులను పట్టుకున్న...</td>\n",
       "      <td>యెమెన్ యుద్ధం వేలాది సౌదీ సైనికులను పట్టుకున్న...</td>\n",
       "    </tr>\n",
       "  </tbody>\n",
       "</table>\n",
       "<p>100 rows × 8 columns</p>\n",
       "</div>"
      ],
      "text/plain": [
       "                        id                                                url  \\\n",
       "0           india-43961357          https://www.bbc.com/telugu/india-43961357   \n",
       "1   international-49974060  https://www.bbc.com/telugu/international-49974060   \n",
       "2           india-47940194          https://www.bbc.com/telugu/india-47940194   \n",
       "3           india-45788302          https://www.bbc.com/telugu/india-45788302   \n",
       "4           india-48162157          https://www.bbc.com/telugu/india-48162157   \n",
       "..                     ...                                                ...   \n",
       "95  international-44493024  https://www.bbc.com/telugu/international-44493024   \n",
       "96  international-43469447  https://www.bbc.com/telugu/international-43469447   \n",
       "97  international-52698488  https://www.bbc.com/telugu/international-52698488   \n",
       "98  international-54313643  https://www.bbc.com/telugu/international-54313643   \n",
       "99  international-49868764  https://www.bbc.com/telugu/international-49868764   \n",
       "\n",
       "                                                title  \\\n",
       "0   మే డే: కార్మికులు ఏ దేశాల్లో ఎక్కువ సేపు పనిచే...   \n",
       "1   నోబెల్ ప్రైజ్: విశ్వ రహస్యాల శోధనకు, కొత్త గ్ర...   \n",
       "2   'ది మోస్ట్ బ్యూటిఫుల్ ఫేస్ ఆన్ ది ఇండియన్ స్క్...   \n",
       "3   గండికోట జలాశయం: ''మా ఇళ్లలోకి నీరొస్తోంది.. పర...   \n",
       "4   అరవింద్ కేజ్రీవాల్‌ను చెంపదెబ్బ కొట్టిన సురేశ్...   \n",
       "..                                                ...   \n",
       "95  దివ్య సూర్యదేవర: ఒకప్పుడు డబ్బుల్లేక ఇబ్బందులు...   \n",
       "96  శత్రువులపై రక్తసిక్త పోరుకైనా చైనా రెడీ: షీ జి...   \n",
       "97  కరోనావైరస్ ఫుట్‌బాల్: జర్మనీలో ప్రీమియ‌ర్ లీగ్...   \n",
       "98  అర్మేనియా - అజర్బైజాన్‌ల మధ్య ‘సరిహద్దు యుద్ధం...   \n",
       "99  యెమెన్ యుద్ధం: 'వేలాది సౌదీ సైనికులను పట్టుకున...   \n",
       "\n",
       "                                              summary  \\\n",
       "0   కార్మికులు ధనిక దేశాల్లో ఎక్కువ సమయం పనిచేస్తు...   \n",
       "1   విశ్వానికి సంబంధించి సరికొత్త అంశాలను కనుగొన్న...   \n",
       "2   తెలుగు సినీరంగాన్ని కొన్నేళ్ల పాటు ఏలిన కథానాయ...   \n",
       "3   శ్రీశైలం జలాశయం నుంచి కడప జిల్లాలోని గండికోట జ...   \n",
       "4   దిల్లీ ముఖ్యమంత్రి అరవింద్ కేజ్రీవాల్‌ ఎన్నికల...   \n",
       "..                                                ...   \n",
       "95  బీకాం, ఎంకాం చదివితే ఏమవ్వొచ్చు? మన కష్టానికి ...   \n",
       "96  తమ దేశానికి చెందిన ఒక అంగుళం భూభాగాన్ని కూడా త...   \n",
       "97  జ‌ర్మ‌నీ ఫుట్‌బాల్ ప్రీమియ‌ర్ లీగ్ బుండెస్‌లీగ...   \n",
       "98  వివాదాస్పద నాగోర్నో-కరబఖ్ సరిహద్దు వద్ద అర్మేన...   \n",
       "99  సౌదీ అరేబియా సైనికులను భారీ సంఖ్యలో పట్టుకున్న...   \n",
       "\n",
       "                                                 text  \\\n",
       "0   [మే డే కార్మికులు ఏ దేశాల్లో ఎక్కువ సేపు పనిచే...   \n",
       "1   [నోబెల్ ప్రైజ్ విశ్వ రహస్యాల శోధనకు కొత్త గ్రహ...   \n",
       "2   [ది మోస్ట్ బ్యూటిఫుల్ ఫేస్ ఆన్ ది ఇండియన్ స్క్...   \n",
       "3   [గండికోట జలాశయం మా ఇళ్లలోకి నీరొస్తోంది.. పరిహ...   \n",
       "4   [అరవింద్ కేజ్రీవాల్ను చెంపదెబ్బ కొట్టిన సురేశ్...   \n",
       "..                                                ...   \n",
       "95  [దివ్య సూర్యదేవర ఒకప్పుడు డబ్బుల్లేక ఇబ్బందులు...   \n",
       "96  [శత్రువులపై రక్తసిక్త పోరుకైనా చైనా రెడీ షీ జి...   \n",
       "97  [కరోనావైరస్ ఫుట్బాల్ జర్మనీలో ప్రీమియర్ లీగ్ ఎ...   \n",
       "98  [అర్మేనియా  అజర్బైజాన్ల మధ్య సరిహద్దు యుద్ధం  ...   \n",
       "99  [యెమెన్ యుద్ధం వేలాది సౌదీ సైనికులను పట్టుకున్...   \n",
       "\n",
       "                                                words  \\\n",
       "0   [మే, డే, కార్మికులు, ఏ, దేశాల్లో, ఎక్కువ, సేపు...   \n",
       "1   [నోబెల్, ప్రైజ్, విశ్వ, రహస్యాల, శోధనకు, కొత్త...   \n",
       "2   [ది, మోస్ట్, బ్యూటిఫుల్, ఫేస్, ఆన్, ది, ఇండియన...   \n",
       "3   [గండికోట, జలాశయం, మా, ఇళ్లలోకి, నీరొస్తోంది, ....   \n",
       "4   [అరవింద్, కేజ్రీవాల్ను, చెంపదెబ్బ, కొట్టిన, సు...   \n",
       "..                                                ...   \n",
       "95  [దివ్య, సూర్యదేవర, ఒకప్పుడు, డబ్బుల్లేక, ఇబ్బం...   \n",
       "96  [శత్రువులపై, రక్తసిక్త, పోరుకైనా, చైనా, రెడీ, ...   \n",
       "97  [కరోనావైరస్, ఫుట్బాల్, జర్మనీలో, ప్రీమియర్, లీ...   \n",
       "98  [అర్మేనియా, అజర్బైజాన్ల, మధ్య, సరిహద్దు, యుద్ధ...   \n",
       "99  [యెమెన్, యుద్ధం, వేలాది, సౌదీ, సైనికులను, పట్ట...   \n",
       "\n",
       "                                   extractive_summary  \\\n",
       "0   వారానికి గరిష్ఠంగా 48 లేదా అంతకంటే తక్కువ పనిగ...   \n",
       "1   నోబెల్ ప్రైజ్ విశ్వ రహస్యాల శోధనకు కొత్త గ్రహా...   \n",
       "2   ది మోస్ట్ బ్యూటిఫుల్ ఫేస్ ఆన్ ది ఇండియన్ స్క్ర...   \n",
       "3   గండికోట జలాశయం మా ఇళ్లలోకి నీరొస్తోంది.. పరిహా...   \n",
       "4   పోస్ట్ of Twitter ముగిసింది 1 న్యూ దిల్లీ లోక్...   \n",
       "..                                                ...   \n",
       "95  దివ్య సూర్యదేవర ఒకప్పుడు డబ్బుల్లేక ఇబ్బందులు ...   \n",
       "96  పార్లమెంట్లో ముగింపు ప్రసంగం చేస్తూ చైనాను విభ...   \n",
       "97  గోల్ కొట్టిన ప్రతిసారీ క్రీడాకారులు హత్తుకొని ...   \n",
       "98  దేశంలో సైనిక శాసనం మార్షలా లావ్ అమలులోకి తెచ్చ...   \n",
       "99  యెమెన్ యుద్ధం వేలాది సౌదీ సైనికులను పట్టుకున్న...   \n",
       "\n",
       "                                      cleaned_summary  \n",
       "0   వారానికి గరిష్ఠంగా 48 లేదా అంతకంటే పనిగంటలు ఉం...  \n",
       "1   నోబెల్ ప్రైజ్ విశ్వ రహస్యాల శోధనకు కొత్త గ్రహా...  \n",
       "2   ది మోస్ట్ బ్యూటిఫుల్ ఫేస్ ఆన్ ది ఇండియన్ స్క్ర...  \n",
       "3   గండికోట జలాశయం మా ఇళ్లలోకి నీరొస్తోంది.. పరిహా...  \n",
       "4   పోస్ట్ of Twitter ముగిసింది 1 న్యూ దిల్లీ లోక్...  \n",
       "..                                                ...  \n",
       "95  దివ్య సూర్యదేవర ఒకప్పుడు డబ్బుల్లేక ఇబ్బందులు ...  \n",
       "96  పార్లమెంట్లో ముగింపు ప్రసంగం చేస్తూ చైనాను విభ...  \n",
       "97  గోల్ కొట్టిన ప్రతిసారీ క్రీడాకారులు హత్తుకొని ...  \n",
       "98  దేశంలో సైనిక శాసనం మార్షలా లావ్ అమలులోకి తెచ్చ...  \n",
       "99  యెమెన్ యుద్ధం వేలాది సౌదీ సైనికులను పట్టుకున్న...  \n",
       "\n",
       "[100 rows x 8 columns]"
      ]
     },
     "execution_count": 39,
     "metadata": {},
     "output_type": "execute_result"
    }
   ],
   "source": [
    "valid_df"
   ]
  },
  {
   "cell_type": "code",
   "execution_count": 44,
   "id": "3317a240",
   "metadata": {},
   "outputs": [],
   "source": [
    "x=test_df['extractive_summary'][5]"
   ]
  },
  {
   "cell_type": "code",
   "execution_count": 45,
   "id": "48cce85c",
   "metadata": {},
   "outputs": [
    {
     "data": {
      "text/plain": [
       "'దీంతో ఇద్దరు బిడ్డల పోషణ ఆమెకు కష్టంగా మారింది మహిళా సంఘంలో చేరడంతో ఆమె పరిస్థితి మారింది ఇప్పుడామె తన ఇద్దరు బిడ్డలను ఉన్నత చదువులు చదివిస్తున్నారు అంతేకాదు ఉత్తరప్రదేశ్లోని పేద మహిళలకు శిక్షణ ఇస్తూ చేతులా సంపాదిస్తున్నారు జిల్లా మహిళలు ఉత్తరప్రదేశ్లోని మహిళలకు శిక్షణ ఇస్తూ కొత్త చరిత్ర సృష్టిస్తున్నారు ఆర్థికంగా ప్రగతి సాధిస్తున్నారు పాలమూరు నుంచి ఉత్తరప్రదేశ్కు ఒప్పందంలో భాగంగా అక్కడి మహిళా సంఘాల సభ్యులకు శిక్షణ ఇవ్వాల్సి శిక్షణ బాధ్యతలు పాలమూరు మహా సమాఖ్య మహిళా సంఘానికి దక్కాయి ఉత్తరప్రదేశ్లో మహిళలకు శిక్షణ ఇవ్వాలంటే హిందీ తప్పనిసరిగా రావాలి జిల్లా అధికారులు దీన్నో సమస్యగానే భావించలేదు సంఘంలోని కొంతమంది సభ్యులను ఎంపిక చేసి వారికి హిందీలో శిక్షణ ఇచ్చి పంపాలని నిర్ణయించారు 6 లక్షల మంది సభ్యులు దీంతో ఉత్తరప్రదేశ్లో శిక్షణ ఇచ్చే సభ్యులను ఎంపిక చేసేందుకు అధికారులు కొన్ని అర్హతలు నిర్ణయించారు అర్హత సాధించిన వారికి ఇంటర్వ్యూలు నిర్వహించారు ఇలా పరీక్షలు నిర్వహించి వంద మందిని ఎంపిక చేశారు వీరికి నేషనల్ రూరల్ లైవ్లీహుడ్ మిషన్ ద్వారా శిక్షణ ఇప్పించారు హిందీలో మాట్లాడటం రాయడం చదవడంపై ఎక్కువ దృష్టి సారించారు శిక్షణ 75 మంది మిగలగా 5 గ్రూపులుగా విభజించారు ఒక్కో గ్రూపులో 15 మంది సభ్యులను చేర్చారు ఉత్తరప్రదేశ్ మహిళలకు పాఠాలు ఎంపికైన 75 మందిని ఉత్తరప్రదేశ్లోని 7 జిల్లాల పరిధిలో గ్రామాలకు పంపించారు ఒక్కో గ్రూపు ఒక్క గ్రామంలో 15 రోజులు ఉండి అక్కడి మహిళలకు సంఘాల ఏర్పాటు నిర్వహణ ఆర్థిక వ్యవహారాలపై శిక్షణ ఇస్తుంది మహిళా సంఘాల ఏర్పాటు వల్ల వచ్చే లాభాలు తమ అనుభవాలను వారితో పంచుకుంటుంది ఉత్తరప్రదేశ్లో మహిళా సంఘాలను సమూహూ సఖీ పేరుతో పిలుస్తారు శిక్షణ ఇచ్చినందుకుగాను ఒక్కో సీఆర్పీకి రోజుకు రూ 1150 చెల్లిస్తారు అదనం రూ ఇలా మొత్తంలో రూ 40 సేవా రుసుంగా పాలమూరు మహాసమాఖ్య తీసుకుంటుంది ఇలా ఒక్కో సీఆర్పీ 45 రోజులు శిక్షణ ఇస్తే రూ 50 వేలకు పైగా సంపాదించుకోవచ్చు ప్రస్తుతం సీఆర్పీల రోజువారి వేతనం రూ 1550కి సీనియర్ సీఆర్పీల వేతనం రూ 1750కి పెంచారు నాలుగేళ్లుగా పాలమూరు మహాసమాఖ్య నుంచి 280 మంది సీఆర్పీలు అనేక సార్లు ఉత్తరప్రదేశ్కు వెళ్లి లక్ష్మీ అన్నారు అధికారులు మూడు నెలలు శిక్షణ ఇచ్చి తనకు హిందీ నేర్పడంతో ఉత్తరప్రదేశ్ మహిళలకు శిక్షణ ఇవ్వడం సులువైందని తెలిపారు అలా రూ 4 లక్షల వరకు సంపాదించా కూతురును బీటెక్ చదివించా ఇప్పుడామెకు సాఫ్ట్వేర్ జాబ్ ఉత్తరప్రదేశ్ మహిళల్లో మూఢనమ్మకాలు ఎక్కువగా కనిపించాయని అక్షరాస్యత తక్కువగా ఉందని ఆమె తెలిపారు సంపాదన పెరిగింది వెళ్లిన ప్రతిసారి రూ 50 వేల వరకు వచ్చేవి ఆ డబ్బుతో ఇంటి స్థలంతో పాటు మా ఆయనకు ఆటో కొన్నాను చెప్పారు సీఆర్పీగా ఎంపికయ్యాక తన సంపాదన పెరిగిందని మరికొందరికి శిక్షణ ఇచ్చానన్న సంతృప్తి దక్కిందని ఆమె తెలిపారు ఉత్తరప్రదేశ్కు వెళ్లిన సీఆర్పీలు ఇప్పటి వరకు రూ 8 కోట్లు సంపాదించారు సేవా రుసుం పాలమూరు మహిళా సమాఖ్యకు రూ 26 లక్షలు వచ్చాయి దీంతో సమాఖ్యలో సభ్యులకు మరిన్ని మెరుగైన వసతులు కల్పించే అవకాశం దొరుకుతుంది చెప్పారు'"
      ]
     },
     "execution_count": 45,
     "metadata": {},
     "output_type": "execute_result"
    }
   ],
   "source": [
    "x"
   ]
  },
  {
   "cell_type": "code",
   "execution_count": 54,
   "id": "002970d6",
   "metadata": {},
   "outputs": [
    {
     "data": {
      "text/plain": [
       "str"
      ]
     },
     "execution_count": 54,
     "metadata": {},
     "output_type": "execute_result"
    }
   ],
   "source": [
    "type(x)"
   ]
  },
  {
   "cell_type": "code",
   "execution_count": 56,
   "id": "ebe9299c",
   "metadata": {},
   "outputs": [
    {
     "data": {
      "text/plain": [
       "'బైడెన్ నాయకత్వంలో అమెరికా భవిష్యత్తు ఉండబోతోంది ఏడున్నర కోట్ల మంది అమెరికన్లు బైడెన్కు ఓట్లు వేశారు'"
      ]
     },
     "execution_count": 56,
     "metadata": {},
     "output_type": "execute_result"
    }
   ],
   "source": [
    "test_df['extractive_summary'][0]"
   ]
  },
  {
   "cell_type": "code",
   "execution_count": 57,
   "id": "6c4ad956",
   "metadata": {},
   "outputs": [
    {
     "data": {
      "text/html": [
       "<div>\n",
       "<style scoped>\n",
       "    .dataframe tbody tr th:only-of-type {\n",
       "        vertical-align: middle;\n",
       "    }\n",
       "\n",
       "    .dataframe tbody tr th {\n",
       "        vertical-align: top;\n",
       "    }\n",
       "\n",
       "    .dataframe thead th {\n",
       "        text-align: right;\n",
       "    }\n",
       "</style>\n",
       "<table border=\"1\" class=\"dataframe\">\n",
       "  <thead>\n",
       "    <tr style=\"text-align: right;\">\n",
       "      <th></th>\n",
       "      <th>id</th>\n",
       "      <th>url</th>\n",
       "      <th>title</th>\n",
       "      <th>summary</th>\n",
       "      <th>text</th>\n",
       "      <th>extractive_summary</th>\n",
       "    </tr>\n",
       "  </thead>\n",
       "  <tbody>\n",
       "    <tr>\n",
       "      <th>0</th>\n",
       "      <td>54991770</td>\n",
       "      <td>https://www.bbc.com/telugu/54991770</td>\n",
       "      <td>బైడెన్ నాయకత్వంలో అమెరికా భవిష్యత్తు ఎలా ఉండబో...</td>\n",
       "      <td>అమెరికా నూతన అధ్యక్షునిగా ఎన్నికైన జో బైడెన్ మ...</td>\n",
       "      <td>[బైడెన్ నాయకత్వంలో అమెరికా భవిష్యత్తు ఉండబోతోం...</td>\n",
       "      <td>బైడెన్ నాయకత్వంలో అమెరికా భవిష్యత్తు ఉండబోతోంద...</td>\n",
       "    </tr>\n",
       "    <tr>\n",
       "      <th>1</th>\n",
       "      <td>international-55128897</td>\n",
       "      <td>https://www.bbc.com/telugu/international-55128897</td>\n",
       "      <td>కావన్: ఈ పాకిస్తాన్ ఏనుగు భారత్ మీదుగా కంబోడియ...</td>\n",
       "      <td>పాకిస్తాన్‌లోని ఓ జూలో కొన్ని సంవత్సరాల పాటు ఒ...</td>\n",
       "      <td>[కావన్ పాకిస్తాన్ ఏనుగు భారత్ మీదుగా కంబోడియాక...</td>\n",
       "      <td>కావన్ పాకిస్తాన్ ఏనుగు భారత్ మీదుగా కంబోడియాకు...</td>\n",
       "    </tr>\n",
       "    <tr>\n",
       "      <th>2</th>\n",
       "      <td>international-50811418</td>\n",
       "      <td>https://www.bbc.com/telugu/international-50811418</td>\n",
       "      <td>ఉల్లి మన ఆహారంలో ఎలా భాగమైంది? దాని చరిత్ర ఏంటి?</td>\n",
       "      <td>కొంత కాలంగా రోజూ వార్తల్లో కనిపిస్తున్నది, రైత...</td>\n",
       "      <td>[ఉల్లి మన ఆహారంలో భాగమైంది దాని చరిత్ర ఏంటి, ప...</td>\n",
       "      <td>ప్రపంచంలో అనేక దేశాలలో ఉల్లిని పండిస్తున్నారు ...</td>\n",
       "    </tr>\n",
       "    <tr>\n",
       "      <th>3</th>\n",
       "      <td>india-56788820</td>\n",
       "      <td>https://www.bbc.com/telugu/india-56788820</td>\n",
       "      <td>తమిళనాడు ఒక చిన్న గ్రామంలో నివసిస్తున్న సిలికా...</td>\n",
       "      <td>\"నేను ఓ రిమోట్ సీఈఓను\" అంటూ గాలికి అటూఇటూ ఊగుత...</td>\n",
       "      <td>[తమిళనాడు చిన్న గ్రామంలో నివసిస్తున్న సిలికాన్...</td>\n",
       "      <td>శ్రీధర్ వెంబు శ్రీధర్ తన సోదరుడితో కలిసి 1996ల...</td>\n",
       "    </tr>\n",
       "    <tr>\n",
       "      <th>4</th>\n",
       "      <td>india-55734987</td>\n",
       "      <td>https://www.bbc.com/telugu/india-55734987</td>\n",
       "      <td>చైనా అరుణాచల్ ప్రదేశ్‌లోకి చొచ్చుకువచ్చి ఓ గ్ర...</td>\n",
       "      <td>చైనా వాస్తవాధీన రేఖను దాటి, భారత్‌లోని అరుణాచల...</td>\n",
       "      <td>[చైనా అరుణాచల్ ప్రదేశ్లోకి చొచ్చుకువచ్చి ఓ గ్ర...</td>\n",
       "      <td>చైనా అరుణాచల్ ప్రదేశ్లోకి చొచ్చుకువచ్చి ఓ గ్రా...</td>\n",
       "    </tr>\n",
       "    <tr>\n",
       "      <th>...</th>\n",
       "      <td>...</td>\n",
       "      <td>...</td>\n",
       "      <td>...</td>\n",
       "      <td>...</td>\n",
       "      <td>...</td>\n",
       "      <td>...</td>\n",
       "    </tr>\n",
       "    <tr>\n",
       "      <th>95</th>\n",
       "      <td>india-44198053</td>\n",
       "      <td>https://www.bbc.com/telugu/india-44198053</td>\n",
       "      <td>కేరళను వణికిస్తున్న నిపా వైరస్</td>\n",
       "      <td>నిపా వైరస్ కేరళలో తీవ్ర కలకలం సృష్టిస్తోంది.</td>\n",
       "      <td>[కేరళను వణికిస్తున్న నిపా వైరస్, గబ్బిలాల ద్వా...</td>\n",
       "      <td>కేరళను వణికిస్తున్న నిపా వైరస్ గబ్బిలాల ద్వారా...</td>\n",
       "    </tr>\n",
       "    <tr>\n",
       "      <th>96</th>\n",
       "      <td>india-56210280</td>\n",
       "      <td>https://www.bbc.com/telugu/india-56210280</td>\n",
       "      <td>పశ్చిమ బెంగాల్ ఎన్నికలు ఎనిమిది దశల్లో.. మార్చ...</td>\n",
       "      <td>పశ్చిమబెంగాల్ అసెంబ్లీ ఎన్నికల తేదీలను ఎలక్షన్...</td>\n",
       "      <td>[పశ్చిమ బెంగాల్ ఎన్నికలు ఎనిమిది దశల్లో.. మార్...</td>\n",
       "      <td>అయిదో దశ పోలింగ్ ఏప్రిల్ 17న తమిళనాడు తమిళనాడు...</td>\n",
       "    </tr>\n",
       "    <tr>\n",
       "      <th>97</th>\n",
       "      <td>india-43268854</td>\n",
       "      <td>https://www.bbc.com/telugu/india-43268854</td>\n",
       "      <td>త్రిపురలో కమల వికాసం.. సుదీర్ఘ కమ్యూనిస్టు పాల...</td>\n",
       "      <td>త్రిపురలో పాతికేళ్ల సీపీఎం పరిపాలన ముగిసింది. ...</td>\n",
       "      <td>[త్రిపురలో కమల వికాసం.. సుదీర్ఘ కమ్యూనిస్టు పా...</td>\n",
       "      <td>మేఘాలయలో కాంగ్రెస్కు మెజార్టీ స్థానాలు లభించాయ...</td>\n",
       "    </tr>\n",
       "    <tr>\n",
       "      <th>98</th>\n",
       "      <td>international-52166143</td>\n",
       "      <td>https://www.bbc.com/telugu/international-52166143</td>\n",
       "      <td>కరోనావైరస్: తీవ్ర సంక్షోభం దిశగా పాకిస్తాన్.. ...</td>\n",
       "      <td>యుద్ధం, సంక్షోభం లాంటి పరిస్థితుల్లో జనం అన్నీ...</td>\n",
       "      <td>[కరోనావైరస్ తీవ్ర సంక్షోభం దిశగా పాకిస్తాన్.. ...</td>\n",
       "      <td>కరోనావైరస్ తీవ్ర సంక్షోభం దిశగా పాకిస్తాన్.. క...</td>\n",
       "    </tr>\n",
       "    <tr>\n",
       "      <th>99</th>\n",
       "      <td>international-44293142</td>\n",
       "      <td>https://www.bbc.com/telugu/international-44293142</td>\n",
       "      <td>అక్కడ ఫేస్‌బుక్‌పై 30 రోజులు నిషేధం</td>\n",
       "      <td>మీరు నెల రోజుల పాటు ఫేస్‌బుక్ లేకుండా ఉండగలరా?...</td>\n",
       "      <td>[ఫేస్బుక్పై 30 రోజులు నిషేధం, ఫేస్బుక్ని నెల ర...</td>\n",
       "      <td>ఫేస్బుక్పై 30 రోజులు నిషేధం ఫేస్బుక్ని నెల రోజ...</td>\n",
       "    </tr>\n",
       "  </tbody>\n",
       "</table>\n",
       "<p>100 rows × 6 columns</p>\n",
       "</div>"
      ],
      "text/plain": [
       "                        id                                                url  \\\n",
       "0                 54991770                https://www.bbc.com/telugu/54991770   \n",
       "1   international-55128897  https://www.bbc.com/telugu/international-55128897   \n",
       "2   international-50811418  https://www.bbc.com/telugu/international-50811418   \n",
       "3           india-56788820          https://www.bbc.com/telugu/india-56788820   \n",
       "4           india-55734987          https://www.bbc.com/telugu/india-55734987   \n",
       "..                     ...                                                ...   \n",
       "95          india-44198053          https://www.bbc.com/telugu/india-44198053   \n",
       "96          india-56210280          https://www.bbc.com/telugu/india-56210280   \n",
       "97          india-43268854          https://www.bbc.com/telugu/india-43268854   \n",
       "98  international-52166143  https://www.bbc.com/telugu/international-52166143   \n",
       "99  international-44293142  https://www.bbc.com/telugu/international-44293142   \n",
       "\n",
       "                                                title  \\\n",
       "0   బైడెన్ నాయకత్వంలో అమెరికా భవిష్యత్తు ఎలా ఉండబో...   \n",
       "1   కావన్: ఈ పాకిస్తాన్ ఏనుగు భారత్ మీదుగా కంబోడియ...   \n",
       "2    ఉల్లి మన ఆహారంలో ఎలా భాగమైంది? దాని చరిత్ర ఏంటి?   \n",
       "3   తమిళనాడు ఒక చిన్న గ్రామంలో నివసిస్తున్న సిలికా...   \n",
       "4   చైనా అరుణాచల్ ప్రదేశ్‌లోకి చొచ్చుకువచ్చి ఓ గ్ర...   \n",
       "..                                                ...   \n",
       "95                     కేరళను వణికిస్తున్న నిపా వైరస్   \n",
       "96  పశ్చిమ బెంగాల్ ఎన్నికలు ఎనిమిది దశల్లో.. మార్చ...   \n",
       "97  త్రిపురలో కమల వికాసం.. సుదీర్ఘ కమ్యూనిస్టు పాల...   \n",
       "98  కరోనావైరస్: తీవ్ర సంక్షోభం దిశగా పాకిస్తాన్.. ...   \n",
       "99                అక్కడ ఫేస్‌బుక్‌పై 30 రోజులు నిషేధం   \n",
       "\n",
       "                                              summary  \\\n",
       "0   అమెరికా నూతన అధ్యక్షునిగా ఎన్నికైన జో బైడెన్ మ...   \n",
       "1   పాకిస్తాన్‌లోని ఓ జూలో కొన్ని సంవత్సరాల పాటు ఒ...   \n",
       "2   కొంత కాలంగా రోజూ వార్తల్లో కనిపిస్తున్నది, రైత...   \n",
       "3   \"నేను ఓ రిమోట్ సీఈఓను\" అంటూ గాలికి అటూఇటూ ఊగుత...   \n",
       "4   చైనా వాస్తవాధీన రేఖను దాటి, భారత్‌లోని అరుణాచల...   \n",
       "..                                                ...   \n",
       "95       నిపా వైరస్ కేరళలో తీవ్ర కలకలం సృష్టిస్తోంది.   \n",
       "96  పశ్చిమబెంగాల్ అసెంబ్లీ ఎన్నికల తేదీలను ఎలక్షన్...   \n",
       "97  త్రిపురలో పాతికేళ్ల సీపీఎం పరిపాలన ముగిసింది. ...   \n",
       "98  యుద్ధం, సంక్షోభం లాంటి పరిస్థితుల్లో జనం అన్నీ...   \n",
       "99  మీరు నెల రోజుల పాటు ఫేస్‌బుక్ లేకుండా ఉండగలరా?...   \n",
       "\n",
       "                                                 text  \\\n",
       "0   [బైడెన్ నాయకత్వంలో అమెరికా భవిష్యత్తు ఉండబోతోం...   \n",
       "1   [కావన్ పాకిస్తాన్ ఏనుగు భారత్ మీదుగా కంబోడియాక...   \n",
       "2   [ఉల్లి మన ఆహారంలో భాగమైంది దాని చరిత్ర ఏంటి, ప...   \n",
       "3   [తమిళనాడు చిన్న గ్రామంలో నివసిస్తున్న సిలికాన్...   \n",
       "4   [చైనా అరుణాచల్ ప్రదేశ్లోకి చొచ్చుకువచ్చి ఓ గ్ర...   \n",
       "..                                                ...   \n",
       "95  [కేరళను వణికిస్తున్న నిపా వైరస్, గబ్బిలాల ద్వా...   \n",
       "96  [పశ్చిమ బెంగాల్ ఎన్నికలు ఎనిమిది దశల్లో.. మార్...   \n",
       "97  [త్రిపురలో కమల వికాసం.. సుదీర్ఘ కమ్యూనిస్టు పా...   \n",
       "98  [కరోనావైరస్ తీవ్ర సంక్షోభం దిశగా పాకిస్తాన్.. ...   \n",
       "99  [ఫేస్బుక్పై 30 రోజులు నిషేధం, ఫేస్బుక్ని నెల ర...   \n",
       "\n",
       "                                   extractive_summary  \n",
       "0   బైడెన్ నాయకత్వంలో అమెరికా భవిష్యత్తు ఉండబోతోంద...  \n",
       "1   కావన్ పాకిస్తాన్ ఏనుగు భారత్ మీదుగా కంబోడియాకు...  \n",
       "2   ప్రపంచంలో అనేక దేశాలలో ఉల్లిని పండిస్తున్నారు ...  \n",
       "3   శ్రీధర్ వెంబు శ్రీధర్ తన సోదరుడితో కలిసి 1996ల...  \n",
       "4   చైనా అరుణాచల్ ప్రదేశ్లోకి చొచ్చుకువచ్చి ఓ గ్రా...  \n",
       "..                                                ...  \n",
       "95  కేరళను వణికిస్తున్న నిపా వైరస్ గబ్బిలాల ద్వారా...  \n",
       "96  అయిదో దశ పోలింగ్ ఏప్రిల్ 17న తమిళనాడు తమిళనాడు...  \n",
       "97  మేఘాలయలో కాంగ్రెస్కు మెజార్టీ స్థానాలు లభించాయ...  \n",
       "98  కరోనావైరస్ తీవ్ర సంక్షోభం దిశగా పాకిస్తాన్.. క...  \n",
       "99  ఫేస్బుక్పై 30 రోజులు నిషేధం ఫేస్బుక్ని నెల రోజ...  \n",
       "\n",
       "[100 rows x 6 columns]"
      ]
     },
     "execution_count": 57,
     "metadata": {},
     "output_type": "execute_result"
    }
   ],
   "source": [
    "test_df"
   ]
  },
  {
   "cell_type": "code",
   "execution_count": 48,
   "id": "2b9738cc",
   "metadata": {},
   "outputs": [
    {
     "data": {
      "text/plain": [
       "\"కార్మికులు ధనిక దేశాల్లో ఎక్కువ సమయం పనిచేస్తున్నారా, పేద దేశాల్లో ఎక్కువ సమయం పనిచేస్తున్నారా? అసలు ప్రపంచవ్యాప్తంగా పనిగంటలు ఎలా ఉన్నాయి? సెలవులు ఎలా ఉన్నాయి? 'మే డే' సందర్భంగా ప్రత్యేక కథనం...\""
      ]
     },
     "execution_count": 48,
     "metadata": {},
     "output_type": "execute_result"
    }
   ],
   "source": [
    "valid_df['summary'][0]"
   ]
  },
  {
   "cell_type": "code",
   "execution_count": 39,
   "id": "a92dafca",
   "metadata": {},
   "outputs": [
    {
     "data": {
      "text/plain": [
       "'వారానికి గరిష్ఠంగా 48 లేదా అంతకంటే తక్కువ పనిగంటలు ఉండాలని ఐఎల్వో సిఫార్సులు చెబుతున్నాయి దక్షిణ కొరియా చట్టసభ నేషనల్ అసెంబ్లీ దేశంలోని ఉద్యోగులకు కార్మికులకు ఊరట కలించేలా పనిగంటలను తగ్గిస్తూ మార్చిలో ఒక చట్టాన్ని తీసుకొచ్చింది వారానికి గరిష్ఠంగా 68గా ఉన్న పనిగంటలను 52 గంటలకు కుదించింది ప్రజల జీవన ప్రమాణాలు పెంచేందుకు మరిన్ని ఉద్యోగాలు సృష్టించేందుకు ఉత్పాదకతను పెంచేందుకు ఈ చట్టం అవసరమని ప్రభుత్వం భావిస్తోంది పనిగంటల తగ్గింపుతో దేశంలో జననాల రేటు కూడా పెరుగుతుందని ప్రభుత్వం ఆశిస్తోంది గత కొన్ని దశాబ్దాల్లో దక్షిణ కొరియాలో జననాల రేటు బాగా తగ్గింది ఒక్కో కార్మికుడు సగటున ఏడాదికి 2069 గంటలు పనిచేస్తున్నట్లు ఓఈసీడీ నివేదిక తెలిపింది ఓఈసీడీ 38 దేశాలపై ఈ విశ్లేషణ జరిపింది వ్యతిరేకించిన కంపెనీలు కంపెనీల నుంచి వ్యక్తమైన వ్యతిరేకతను పక్కనబెట్టి దక్షిణ కొరియా ప్రభుత్వం ఈ చట్టాన్ని తీసుకొచ్చింది ఇది జులై నుంచి అమలవుతుంది దీనిని తొలి దశలో భారీ కంపెనీలు అమలు చేయాల్సి ఉంటుంది తర్వాత చిన్నస్థాయి కంపెనీలు కూడా దీని ప్రకారం పనిగంటలను తగ్గించాల్సి ఉంటుంది కంపెనీల వ్యతిరేకతను పక్కనబెట్టి దక్షిణ కొరియా ప్రభుత్వం పనిగంటలను తగ్గించే చట్టాన్ని తీసుకొచ్చింది సంపన్న దేశమే అయినప్పటికీ దక్షిణ కొరియాలో మాత్రం పరిస్థితి భిన్నంగా ఉంది దక్షిణ కొరియాలో స్వయం ఉపాధి కార్మికులు ఎక్కువగా ఉండటం వేతనాలు తక్కువగా ఉండటం ఉద్యోగ అభద్రత ఇతరత్రా అంశాలు దీనికి కారణం జపాన్లోనూ అధిక పనిగంటలు దక్షిణ కొరియా మాదిరే సంపన్న దేశమైన జపాన్లోనూ అధిక పనిగంటలు ఉన్నాయి వారానికి ఉండాల్సిన పనిగంటలపై పరిమితిని విధించే చట్టమేదీ జపాన్లో లేదు జపాన్లో పని ఒత్తిడి సుదీర్ఘ సమయం పనిచేయడం కొందరు కార్మికుల ఆరోగ్యంపై తీవ్ర ప్రభావాన్ని చూపుతోంది ఇది మరణాలకూ దారితీస్తోంది వారానికి ఉండాల్సిన పనిగంటలపై పరిమితిని విధించే చట్టమేదీ జపాన్లో లేదు పని ఒత్తిడి కారణంగా సంభవించే మరణానికి జపాన్ భాషలో ప్రత్యేకంగా ఒక పదమే ఉంది ఈ మరణాన్ని కరోషి అంటారు 201516 ఆర్థిక సంవత్సరంలో జపాన్లో 1456 కరోషి కేసులు నమోదైనట్లు ప్రభుత్వ రికార్డులు పేర్కొంటున్నాయి వాస్తవానికి ఈ కేసులు ఇంతకన్నా ఎక్కువే ఉంటాయని చాలా కేసులు రికార్డుల్లో నమోదై ఉండవని కార్మిక హక్కుల సంఘాలు చెబుతున్నాయి ఎక్కువ గంటలు అంతర్జాతీయ కార్మిక సంస్థ ఇటీవలి గణాంకాల ప్రకారం ఆసియా దేశాల్లో ఎక్కువ మంది కార్మికులు ఎక్కువ గంటలు పనిచేస్తున్నారు ఆసియాలో 32 శాతం దేశాల్లో పనిగంటలపై జాతీయస్థాయిలో ఎలాంటి సార్వజనీనమైన పరిమితి లేదు 29 శాతం దేశాల్లో వారానికి 60 లేదా అంతకంటే ఎక్కువ పనిగంటలు ఉన్నాయి ఎంతో అభివృద్ధి చెందిన దేశమైన అమెరికాలోనూ ఈ నిబంధన లేదు మధ్యప్రాచ్యం పనిగంటలు 60కి పైనే మధ్యప్రాచ్యంలో చట్టపరంగానే సుదీర్ఘ పనిగంటలు ఉన్నాయి పది దేశాలకుగాను ఎనిమిది దేశాల్లో వారానికి పనిగంటలు 60కి పైన ఉన్నాయి యూరప్లో బెల్జియం టర్కీ మినహా అన్ని దేశాల్లో వారానికి గరిష్ఠంగా 48 పనిగంటలు ఉన్నాయి ఈ రెండు దేశాల్లో మాత్రమే అంతకన్నా ఎక్కువగా ఉన్నాయి ఆఫ్రికా అలాంటి దేశాలు అత్యధికం ఇక్కడే ఆఫ్రికాలో చాలా దేశాల్లో కార్మికులు అత్యధిక గంటలు పనిచేస్తున్నారు మూడింట ఒక వంతు మందికి పైగా కార్మికులు 48 గంటలకు మించి పనిచేస్తున్న దేశాలు అత్యధికంగా ఆఫ్రికాలో ఉన్నాయి 6 నగరాల వారీగానూ సగటు పనిగంటల వివరాలనూ కొన్ని అధ్యయనాలు వెల్లడించాయి ఈ విశ్లేషణ ప్రకారం వారానికి సగటు పనిగంటలు ముంబయిలో 43 హాంకాంగ్లో అత్యధికంగా 50 1 పనిగంటలు ఉన్నాయి యూబీఎస్ విశ్లేషణ ప్రకారం వారానికి సగటు పనిగంటలు ముంబయిలో 43 6 మెక్సికో సెలవులూ తక్కువే మెక్సికోలో పనిగంటలు అత్యధికంగా ఉండటమే కాదు సెలవులు కూడా చాలా తక్కువ మెక్సికోలో పెయిడ్ వార్షిక సెలవుల కనీస సంఖ్య 10లోపే బ్రెజిల్లో ఈ సెలవుల సంఖ్య 2023 మధ్య ఉంది'"
      ]
     },
     "execution_count": 39,
     "metadata": {},
     "output_type": "execute_result"
    }
   ],
   "source": [
    "valid_df['extractive_summary'][0]"
   ]
  },
  {
   "cell_type": "code",
   "execution_count": 51,
   "id": "5903ca4d",
   "metadata": {},
   "outputs": [
    {
     "data": {
      "text/plain": [
       "['మే డే కార్మికులు ఏ దేశాల్లో ఎక్కువ సేపు పనిచేస్తున్నారు',\n",
       " 'వారానికి గరిష్ఠంగా 48 లేదా అంతకంటే తక్కువ పనిగంటలు ఉండాలని ఐఎల్వో సిఫార్సులు చెబుతున్నాయి',\n",
       " 'దక్షిణ కొరియా చట్టసభ నేషనల్ అసెంబ్లీ దేశంలోని ఉద్యోగులకు కార్మికులకు ఊరట కలించేలా పనిగంటలను తగ్గిస్తూ మార్చిలో ఒక చట్టాన్ని తీసుకొచ్చింది',\n",
       " 'వారానికి గరిష్ఠంగా 68గా ఉన్న పనిగంటలను 52 గంటలకు కుదించింది',\n",
       " 'ప్రజల జీవన ప్రమాణాలు పెంచేందుకు మరిన్ని ఉద్యోగాలు సృష్టించేందుకు ఉత్పాదకతను పెంచేందుకు ఈ చట్టం అవసరమని ప్రభుత్వం భావిస్తోంది',\n",
       " 'పనిగంటల తగ్గింపుతో దేశంలో జననాల రేటు కూడా పెరుగుతుందని ప్రభుత్వం ఆశిస్తోంది',\n",
       " 'గత కొన్ని దశాబ్దాల్లో దక్షిణ కొరియాలో జననాల రేటు బాగా తగ్గింది',\n",
       " 'ఆర్థిక సహకార అభివృద్ధి సంస్థఆర్గనైజేషన్ ఫర్ ఎకనామిక్ కోఆపరేషన్ అండ్ డెవలప్మెంట్ఓఈసీడీ 2016లో విడుదల చేసిన ఒక నివేదిక ప్రకారం అత్యధిక పనిగంటలున్న అభివృద్ధి చెందిన దేశం దక్షిణ కొరియానే',\n",
       " 'ఒక్కో కార్మికుడు సగటున ఏడాదికి 2069 గంటలు పనిచేస్తున్నట్లు ఓఈసీడీ నివేదిక తెలిపింది',\n",
       " 'ఓఈసీడీ 38 దేశాలపై ఈ విశ్లేషణ జరిపింది',\n",
       " 'వ్యతిరేకించిన కంపెనీలు కంపెనీల నుంచి వ్యక్తమైన వ్యతిరేకతను పక్కనబెట్టి దక్షిణ కొరియా ప్రభుత్వం ఈ చట్టాన్ని తీసుకొచ్చింది',\n",
       " 'ఇది జులై నుంచి అమలవుతుంది',\n",
       " 'దీనిని తొలి దశలో భారీ కంపెనీలు అమలు చేయాల్సి ఉంటుంది',\n",
       " 'తర్వాత చిన్నస్థాయి కంపెనీలు కూడా దీని ప్రకారం పనిగంటలను తగ్గించాల్సి ఉంటుంది',\n",
       " 'కంపెనీల వ్యతిరేకతను పక్కనబెట్టి దక్షిణ కొరియా ప్రభుత్వం పనిగంటలను తగ్గించే చట్టాన్ని తీసుకొచ్చింది',\n",
       " 'దక్షిణ కొరియా కారణాలు ఏమిటి సంపన్న దేశాలతో పోలిస్తే దిగువ మధ్యస్థాయి ఆదాయాలున్న దేశాల్లో కార్మికులు ఎక్కువ గంటలు పనిచేస్తున్నట్లు అంతర్జాతీయ కార్మిక సంస్థఐఎల్వో అధ్యయనాలు చెబుతున్నాయి',\n",
       " 'సంపన్న దేశమే అయినప్పటికీ దక్షిణ కొరియాలో మాత్రం పరిస్థితి భిన్నంగా ఉంది',\n",
       " 'దక్షిణ కొరియాలో స్వయం ఉపాధి కార్మికులు ఎక్కువగా ఉండటం వేతనాలు తక్కువగా ఉండటం ఉద్యోగ అభద్రత ఇతరత్రా అంశాలు దీనికి కారణం',\n",
       " 'జపాన్లోనూ అధిక పనిగంటలు దక్షిణ కొరియా మాదిరే సంపన్న దేశమైన జపాన్లోనూ అధిక పనిగంటలు ఉన్నాయి',\n",
       " 'వారానికి ఉండాల్సిన పనిగంటలపై పరిమితిని విధించే చట్టమేదీ జపాన్లో లేదు',\n",
       " 'జపాన్లో పని ఒత్తిడి సుదీర్ఘ సమయం పనిచేయడం కొందరు కార్మికుల ఆరోగ్యంపై తీవ్ర ప్రభావాన్ని చూపుతోంది',\n",
       " 'ఇది మరణాలకూ దారితీస్తోంది',\n",
       " 'వారానికి ఉండాల్సిన పనిగంటలపై పరిమితిని విధించే చట్టమేదీ జపాన్లో లేదు',\n",
       " 'పని ఒత్తిడి కారణంగా సంభవించే మరణానికి జపాన్ భాషలో ప్రత్యేకంగా ఒక పదమే ఉంది',\n",
       " 'ఈ మరణాన్ని కరోషి అంటారు',\n",
       " 'పని ఒత్తిడి కారణంగా గుండెపోటు పక్షవాతం లాంటి ఆరోగ్య సమస్యలు రావడం వల్ల చనిపోవడాన్ని లేదా బలవన్మరణానికి పాల్పడటాన్ని కరోషి అని వ్యవహరిస్తారు',\n",
       " '201516 ఆర్థిక సంవత్సరంలో జపాన్లో 1456 కరోషి కేసులు నమోదైనట్లు ప్రభుత్వ రికార్డులు పేర్కొంటున్నాయి',\n",
       " 'వాస్తవానికి ఈ కేసులు ఇంతకన్నా ఎక్కువే ఉంటాయని చాలా కేసులు రికార్డుల్లో నమోదై ఉండవని కార్మిక హక్కుల సంఘాలు చెబుతున్నాయి',\n",
       " 'ఆసియా ఎక్కువ మంది',\n",
       " 'ఎక్కువ గంటలు అంతర్జాతీయ కార్మిక సంస్థ ఇటీవలి గణాంకాల ప్రకారం ఆసియా దేశాల్లో ఎక్కువ మంది కార్మికులు ఎక్కువ గంటలు పనిచేస్తున్నారు',\n",
       " 'ఆసియాలో 32 శాతం దేశాల్లో పనిగంటలపై జాతీయస్థాయిలో ఎలాంటి సార్వజనీనమైన పరిమితి లేదు',\n",
       " '29 శాతం దేశాల్లో వారానికి 60 లేదా అంతకంటే ఎక్కువ పనిగంటలు ఉన్నాయి',\n",
       " 'వారానికి గరిష్ఠంగా 48 లేదా అంతకంటే తక్కువ పనిగంటలు ఉండాలనే ఐఎల్వో సిఫార్సులను కేవలం నాలుగు శాతం దేశాలే అమలు చేస్తున్నాయి',\n",
       " 'అమెరికా నిబంధన లేదు ఉత్తర అమెరికా దక్షిణ అమెరికా లాటిన్ అమెరికాల్లో కరీబియన్ ప్రాంతంలో 34 శాతం దేశాల్లో వారానికి గరిష్ఠ పనిగంటలపై సార్వజనీన నిబంధనేదీ లేదు',\n",
       " 'ఎంతో అభివృద్ధి చెందిన దేశమైన అమెరికాలోనూ ఈ నిబంధన లేదు',\n",
       " 'మధ్యప్రాచ్యం పనిగంటలు 60కి పైనే మధ్యప్రాచ్యంలో చట్టపరంగానే సుదీర్ఘ పనిగంటలు ఉన్నాయి',\n",
       " 'పది దేశాలకుగాను ఎనిమిది దేశాల్లో వారానికి పనిగంటలు 60కి పైన ఉన్నాయి',\n",
       " 'యూరప్ బెల్జియం టర్కీ తప్ప',\n",
       " 'యూరప్లో బెల్జియం టర్కీ మినహా అన్ని దేశాల్లో వారానికి గరిష్ఠంగా 48 పనిగంటలు ఉన్నాయి',\n",
       " 'ఈ రెండు దేశాల్లో మాత్రమే అంతకన్నా ఎక్కువగా ఉన్నాయి',\n",
       " 'ఆఫ్రికా అలాంటి దేశాలు అత్యధికం ఇక్కడే ఆఫ్రికాలో చాలా దేశాల్లో కార్మికులు అత్యధిక గంటలు పనిచేస్తున్నారు',\n",
       " 'మూడింట ఒక వంతు మందికి పైగా కార్మికులు 48 గంటలకు మించి పనిచేస్తున్న దేశాలు అత్యధికంగా ఆఫ్రికాలో ఉన్నాయి',\n",
       " 'నగరాల్లో పనిగంటలు ముంబయిలో 43',\n",
       " '7 దిల్లీలో 42',\n",
       " '6 నగరాల వారీగానూ సగటు పనిగంటల వివరాలనూ కొన్ని అధ్యయనాలు వెల్లడించాయి',\n",
       " 'స్విట్జర్లాండ్కు చెందిన బ్యాంకు యూబీఎస్ 71 నగరాలపై 2016లో ఒక విశ్లేషణను విడుదల చేసింది',\n",
       " 'ఈ విశ్లేషణ ప్రకారం వారానికి సగటు పనిగంటలు ముంబయిలో 43',\n",
       " '7గా దిల్లీలో 42',\n",
       " '6గా ఉన్నాయి',\n",
       " 'హాంకాంగ్లో అత్యధికంగా 50',\n",
       " '1 పనిగంటలు ఉన్నాయి',\n",
       " 'మెక్సికో సిటీలో 43',\n",
       " '5 బ్యాంకాక్లో 42',\n",
       " '1 పనిగంటలు ఉన్నాయి',\n",
       " 'యూబీఎస్ విశ్లేషణ ప్రకారం వారానికి సగటు పనిగంటలు ముంబయిలో 43',\n",
       " '7 కాగా దిల్లీలో 42',\n",
       " '6 మెక్సికో సెలవులూ తక్కువే మెక్సికోలో పనిగంటలు అత్యధికంగా ఉండటమే కాదు సెలవులు కూడా చాలా తక్కువ',\n",
       " 'మెక్సికోలో పెయిడ్ వార్షిక సెలవుల కనీస సంఖ్య 10లోపే',\n",
       " 'జపాన్ చైనా నైజీరియాల్లోనూ దాదాపు ఇంతే',\n",
       " 'బ్రెజిల్లో ఈ సెలవుల సంఖ్య 2023 మధ్య ఉంది']"
      ]
     },
     "execution_count": 51,
     "metadata": {},
     "output_type": "execute_result"
    }
   ],
   "source": [
    "valid_df['text'][0]"
   ]
  },
  {
   "cell_type": "code",
   "execution_count": 38,
   "id": "aa9ce95f",
   "metadata": {},
   "outputs": [
    {
     "name": "stderr",
     "output_type": "stream",
     "text": [
      "C:\\Users\\SHAM\\AppData\\Local\\Temp\\ipykernel_66952\\1638642917.py:2: SettingWithCopyWarning: \n",
      "A value is trying to be set on a copy of a slice from a DataFrame.\n",
      "Try using .loc[row_indexer,col_indexer] = value instead\n",
      "\n",
      "See the caveats in the documentation: https://pandas.pydata.org/pandas-docs/stable/user_guide/indexing.html#returning-a-view-versus-a-copy\n",
      "  train_df[\"generated_summary\"] = train_df[\"extractive_summary\"].apply(summarize)\n"
     ]
    }
   ],
   "source": [
    "# Apply to test set\n",
    "train_df[\"generated_summary\"] = train_df[\"extractive_summary\"].apply(summarize)\n",
    "#test_df[\"generated_summary\"][0] = test_df[\"extractive_summary\"][0].split().apply(summarize)\n"
   ]
  },
  {
   "cell_type": "code",
   "execution_count": 40,
   "id": "cbd67313",
   "metadata": {},
   "outputs": [
    {
     "data": {
      "text/plain": [
       "'విధి నిర్వహణకు ఖరీదైన ప్రైవేటు విమానాలను ఉపయోగించినందుకు విమర్శలను ఎదుర్కొన్న ఎదుర్కొన్న అమెరికా ఆరోగ్యశాఖ మంత్రి టామ్ ప్రైస్'"
      ]
     },
     "execution_count": 40,
     "metadata": {},
     "output_type": "execute_result"
    }
   ],
   "source": [
    "train_df['generated_summary'][0]"
   ]
  },
  {
   "cell_type": "code",
   "execution_count": 41,
   "id": "ed8d53fd",
   "metadata": {},
   "outputs": [
    {
     "data": {
      "text/plain": [
       "'విధి నిర్వహణకు ఖరీదైన ప్రైవేటు విమానాలను ఉపయోగించినందుకు విమర్శలను ఎదుర్కొన్న అమెరికా ఆరోగ్యశాఖ మంత్రి టామ్ ప్రైస్ తన పదవికి రాజీనామా చేశారు.'"
      ]
     },
     "execution_count": 41,
     "metadata": {},
     "output_type": "execute_result"
    }
   ],
   "source": [
    "train_df['summary'][0]"
   ]
  },
  {
   "cell_type": "code",
   "execution_count": 52,
   "id": "2e1d48cb",
   "metadata": {},
   "outputs": [
    {
     "data": {
      "text/plain": [
       "'ప్రపంచంలోని అత్యంత ధనికులకు, పేదవారికి ఆర్థిక అంతరాలు గణనీయంగా పెరిగాయని ఒక ఏకే-47 రైఫిల్\\u200c అప్పగిస్తే,'"
      ]
     },
     "execution_count": 52,
     "metadata": {},
     "output_type": "execute_result"
    }
   ],
   "source": [
    "test_df['generated_summary'] = test_df['extractive_summary'].apply(summarize)\n",
    "test_df['generated_summary'][0]"
   ]
  },
  {
   "cell_type": "code",
   "execution_count": 53,
   "id": "c5223ba4",
   "metadata": {},
   "outputs": [
    {
     "data": {
      "text/plain": [
       "'బైడెన్ నాయకత్వంలో అమెరికా భవిష్యత్తు ఉండబోతోంది ఏడున్నర కోట్ల మంది అమెరికన్లు బైడెన్కు ఓట్లు వేశారు'"
      ]
     },
     "execution_count": 53,
     "metadata": {},
     "output_type": "execute_result"
    }
   ],
   "source": [
    "test_df['extractive_summary'][0]"
   ]
  },
  {
   "cell_type": "code",
   "execution_count": 54,
   "id": "d4c7f1d5",
   "metadata": {},
   "outputs": [
    {
     "data": {
      "text/plain": [
       "['బైడెన్ నాయకత్వంలో అమెరికా భవిష్యత్తు ఉండబోతోంది',\n",
       " 'ఏడున్నర కోట్ల మంది అమెరికన్లు బైడెన్కు ఓట్లు వేశారు',\n",
       " 'మరి భిన్న ధ్రువాలుగా విడిపోయిన ప్రజలను బైడెన్ ఏకం చేయగలరా అందులోనూ కోవిడ్ కేసులు పెరిగిపోతున్న నేపథ్యంలో ప్రజల ఐక్యత అసలు సాధ్యమేనా చేయండి']"
      ]
     },
     "execution_count": 54,
     "metadata": {},
     "output_type": "execute_result"
    }
   ],
   "source": [
    "test_df['text'][0]"
   ]
  },
  {
   "cell_type": "code",
   "execution_count": null,
   "id": "b118aac5",
   "metadata": {},
   "outputs": [],
   "source": []
  }
 ],
 "metadata": {
  "kernelspec": {
   "display_name": "Python 3",
   "language": "python",
   "name": "python3"
  },
  "language_info": {
   "codemirror_mode": {
    "name": "ipython",
    "version": 3
   },
   "file_extension": ".py",
   "mimetype": "text/x-python",
   "name": "python",
   "nbconvert_exporter": "python",
   "pygments_lexer": "ipython3",
   "version": "3.12.5"
  }
 },
 "nbformat": 4,
 "nbformat_minor": 5
}
